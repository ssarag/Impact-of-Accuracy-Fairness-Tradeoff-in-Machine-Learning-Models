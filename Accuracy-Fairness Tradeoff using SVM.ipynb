{
 "cells": [
  {
   "cell_type": "markdown",
   "metadata": {
    "id": "X_Pu6q5YeHNj"
   },
   "source": [
    "The work that follows examines hyperparameter tuning in the context of supervised machine learning in order to identify the most ideal parameters that achieve a compromise between accuracy and fairness metrics and improve the human-orientedness of machine learning models. It is necessary to categorize two categories of persons.  Bank Marketing and adult datasets from the aif360[LFR] library are used in the study. The Support Vector Machine model is utilisutilizeded for the classification, which is based on the features \"age\" for bank marketing and \"sex\" for the Adult dataset (SVM).\n",
    "\n",
    "Installing the aif360[LFR] library, finding the proper location, and importing the dataset are the first steps."
   ]
  },
  {
   "cell_type": "code",
   "execution_count": null,
   "metadata": {
    "id": "_Hi21siOdEUW"
   },
   "outputs": [],
   "source": [
    "!pip install 'aif360[LFR]'"
   ]
  },
  {
   "cell_type": "code",
   "execution_count": null,
   "metadata": {
    "id": "Xc1rZjY7dKk1"
   },
   "outputs": [],
   "source": [
    "!pip install fairlearn"
   ]
  },
  {
   "cell_type": "code",
   "execution_count": null,
   "metadata": {
    "id": "qJlzsrVJd577"
   },
   "outputs": [],
   "source": [
    "pip install scikit-lego"
   ]
  },
  {
   "cell_type": "code",
   "execution_count": 4,
   "metadata": {
    "id": "VFfL11jYdzFE"
   },
   "outputs": [],
   "source": [
    "# import all necessary libraries\n",
    "\n",
    "import numpy as np\n",
    "import pandas as pd\n",
    "from aif360.datasets import GermanDataset\n",
    "from aif360.datasets import BankDataset\n",
    "from aif360.algorithms.preprocessing.optim_preproc_helpers.data_preproc_functions import load_preproc_data_german\n",
    "from aif360.metrics import ClassificationMetric\n",
    "from aif360.algorithms.preprocessing.reweighing import Reweighing\n",
    "import pdb\n",
    "import random\n",
    "from datetime import datetime\n",
    "from sklearn.preprocessing import StandardScaler\n",
    "from sklearn.metrics import confusion_matrix\n",
    "from sklearn.model_selection import *\n",
    "from sklearn.svm import SVC\n",
    "from sklearn.model_selection import StratifiedKFold\n",
    "import matplotlib.pyplot as plt\n",
    "from mpl_toolkits.mplot3d import Axes3D\n",
    "from sklego.metrics import equal_opportunity_score\n",
    "from aif360.metrics import BinaryLabelDatasetMetric, DatasetMetric\n",
    "from aif360.algorithms.preprocessing import Reweighing\n",
    "from aif360.explainers import MetricTextExplainer, MetricJSONExplainer\n",
    "import matplotlib\n",
    "import matplotlib.pyplot as plt\n",
    "import seaborn as sns\n",
    "import json\n",
    "from collections import OrderedDict\n",
    "\n",
    "np.random.seed(0)"
   ]
  },
  {
   "cell_type": "markdown",
   "metadata": {
    "id": "mCp6WpO6eouJ"
   },
   "source": [
    "The function that follows takes a dataset's name as an input, configures privileged and unprivileged classes with values of 1 and 0, respectively, for training, and divides the dataset into training and test sets in a proportion of 70:30. To determine the hyperparameter values for the most accurate model—the model that gives the highest accuracy on the train set—as well as the most fair model, which will have shown equal opportunity for both classes (although accuracy may be lower) and serves as a more generalised model, we first perform all operations on the Bank dataset."
   ]
  },
  {
   "cell_type": "code",
   "execution_count": 5,
   "metadata": {
    "id": "odhqudfFej6m"
   },
   "outputs": [],
   "source": [
    "def dataset(dataset):\n",
    "  privileged = [{'sex': 1}]\n",
    "  unprivileged = [{'sex': 0}]\n",
    "  dataset_original = dataset(['sex'])\n",
    "\n",
    "\n",
    "  train, test = dataset_original.split([0.7], shuffle=True)\n",
    "  print(\"training data size\", train.features.shape)\n",
    "  print(\"dataset feature names\", train.feature_names)\n",
    "\n",
    "  scale_orig = StandardScaler()\n",
    "  X_train = scale_orig.fit_transform(train.features)\n",
    "  y_train = train.labels.ravel()\n",
    "\n",
    "  X_test = scale_orig.transform(test.features) \n",
    "  y_test = test.labels.ravel()\n",
    "\n",
    "  return privileged, unprivileged, train, test, X_train, y_train, X_test, y_test"
   ]
  },
  {
   "cell_type": "markdown",
   "metadata": {
    "id": "JEjK2FZie-Ea"
   },
   "source": [
    "The following function accepts both the training and test sets as well as the set of hyperparameters we are testing. To identify the combination of the two that produces the most accurate and equitable model for our SVM model, we will alter the regularisation term C and the gamma value. Below is a derivation of a similar function for employing sample weights in hyperparameter tuning."
   ]
  },
  {
   "cell_type": "code",
   "execution_count": 6,
   "metadata": {
    "id": "M5-S48v6e2vE"
   },
   "outputs": [],
   "source": [
    "def tune_hyperparameters(cvalues, gammavalues, X_train, y_train):\n",
    "  \n",
    "  folds = StratifiedKFold(n_splits=5)\n",
    "  accuracy_score = {}\n",
    "  equality_error = {}\n",
    "  \n",
    "  i_val = []\n",
    "  j_val = []\n",
    "  accuracy_dict={}\n",
    "  for i in cvalues:\n",
    "    for j in gammavalues:\n",
    "      score = []\n",
    "      eod = []\n",
    "      for train_index, test_index in folds.split(X_train, y_train):\n",
    "        X_trn, X_tst, y_trn, y_tst = X_train[train_index], X_train[test_index], y_train[train_index], y_train[test_index]\n",
    "        mod = SVC(C=i, gamma=j, kernel='rbf')\n",
    "        mod.fit(X_trn, y_trn)\n",
    "        score.append(mod.score(X_tst, y_tst))\n",
    "        predictions = mod.predict(X_tst)\n",
    "       \n",
    "        tot_pos = 0\n",
    "        tot_neg = 0\n",
    "\n",
    "        for val in range(len(predictions)):\n",
    "          if y_tst[val]==1:\n",
    "            tot_pos+=1\n",
    "          if y_tst[val]==0:\n",
    "            tot_neg+=1\n",
    "          else:\n",
    "            continue\n",
    "\n",
    "        p = 0\n",
    "        n = 0\n",
    "        for val in range(len(predictions)):\n",
    "          if y_tst[val]==1 and y_tst[val]==predictions[val]:\n",
    "            p+=1\n",
    "          if y_tst[val]==0 and y_tst[val]==predictions[val]:\n",
    "            n+=1\n",
    "          else:\n",
    "            continue\n",
    "\n",
    "        if tot_pos==0:\n",
    "          equal_opportunity_diff = 0\n",
    "        elif tot_neg==0:\n",
    "          equal_opportunity_diff = 0\n",
    "        else:\n",
    "          equal_opportunity_diff = abs((p/tot_pos)-(n/tot_neg))\n",
    "        \n",
    "        eod.append(equal_opportunity_diff)\n",
    "\n",
    "      i_val.append(i)\n",
    "      j_val.append(j)\n",
    "      accuracy_score[\"C=\"+str(i)+\"_gamma=\"+str(j)] = np.average(score)\n",
    "     \n",
    "      \n",
    "      \n",
    "      equality_error[\"C=\"+str(i)+\"_gamma=\"+str(j)] = np.average(eod)\n",
    "      \n",
    "      \n",
    "\n",
    "  print(\"Maximum accuracy value on training set: \", round((max(accuracy_score.values())*100),2), \"%\")\n",
    "  #print(\"Hyperparameter values to achieve maximum accuracy: \", list(accuracy_score.keys())[list(accuracy_score.values()).index(max(accuracy_score.values()))])\n",
    "  print(\"Hyperparameter values to achieve maximum accuracy: \", [k for k,v in accuracy_score.items() if v == max(accuracy_score.values())])  \n",
    "  print(\"Minimum error value: \", round(min(equality_error.values(), key=abs),4))\n",
    "  print(\"Hyperparameter values to achieve maximum fairness (i.e. Equal opportunity for both classes): \", [k for k,v in equality_error.items() if v == min(equality_error.values(), key=abs)])\n",
    "\n",
    "  return i_val, j_val, accuracy_score, equality_error"
   ]
  },
  {
   "cell_type": "code",
   "execution_count": 7,
   "metadata": {
    "id": "qqoGE0XggDSI"
   },
   "outputs": [],
   "source": [
    "def tune_weighted_hyperparameters(c_val, gamma_val, X_train, y_train, weights):\n",
    "  \n",
    "  folds = StratifiedKFold(n_splits=5)\n",
    "  accuracy_score = {}\n",
    "  equality_error = {}\n",
    "  i_val = []\n",
    "  j_val = []\n",
    "\n",
    "  for i in c_val:\n",
    "    for j in gamma_val:\n",
    "      score = []\n",
    "      eod = []\n",
    "      for train_index, test_index in folds.split(X_train, y_train):\n",
    "        X_trn, X_tst, y_trn, y_tst = X_train[train_index], X_train[test_index], y_train[train_index], y_train[test_index]\n",
    "        mod = SVC(C=i, gamma=j, kernel='rbf')\n",
    "        mod.fit(X_trn, y_trn, sample_weight=weights[train_index])     #sample weights\n",
    "        score.append(mod.score(X_tst, y_tst))\n",
    "        predictions = mod.predict(X_tst)\n",
    "\n",
    "        tot_pos = 0\n",
    "        tot_neg = 0\n",
    "\n",
    "        for val in range(len(predictions)):\n",
    "          if y_tst[val]==1:\n",
    "            tot_pos+=1\n",
    "          if y_tst[val]==0:\n",
    "            tot_neg+=1\n",
    "          else:\n",
    "            continue\n",
    "\n",
    "        p = 0\n",
    "        n = 0\n",
    "        for val in range(len(predictions)):\n",
    "          if y_tst[val]==1 and y_tst[val]==predictions[val]:\n",
    "            p+=1\n",
    "          if y_tst[val]==0 and y_tst[val]==predictions[val]:\n",
    "            n+=1\n",
    "          else:\n",
    "            continue\n",
    "\n",
    "        if tot_pos==0:\n",
    "          equal_opportunity_diff = 0\n",
    "        elif tot_neg==0:\n",
    "          equal_opportunity_diff = 0\n",
    "        else:\n",
    "          equal_opportunity_diff = abs((p/tot_pos)-(n/tot_neg))\n",
    "        \n",
    "        eod.append(equal_opportunity_diff)\n",
    "      \n",
    "      i_val.append(i)\n",
    "      j_val.append(j)\n",
    "\n",
    "      accuracy_score[\"C=\"+str(i)+\"_gamma=\"+str(j)] = np.average(score)\n",
    "      \n",
    "      equality_error[\"C=\"+str(i)+\"_gamma=\"+str(j)] = np.average(eod)\n",
    "\n",
    "\n",
    "  print(\"Maximum accuracy value on training set: \", round((max(accuracy_score.values())*100),2), \"%\")\n",
    "  #print(\"Hyperparameter values to achieve maximum accuracy: \", list(accuracy_score.keys())[list(accuracy_score.values()).index(max(accuracy_score.values()))])\n",
    "  print(\"Hyperparameter values to achieve maximum accuracy: \", [k for k,v in accuracy_score.items() if v == max(accuracy_score.values())])\n",
    "  print(\"Minimum error value: \", round(min(equality_error.values(), key=abs),4))\n",
    "  print(\"Hyperparameter values to achieve maximum fairness (i.e. Equal opportunity for both classes): \", [k for k,v in equality_error.items() if v == min(equality_error.values(), key=abs)])\n",
    "\n",
    "  return i_val, j_val, accuracy_score, equality_error"
   ]
  },
  {
   "cell_type": "markdown",
   "metadata": {
    "id": "Af2TchrGgW6G"
   },
   "source": [
    "The following two blocks of codes are functions to run specific combinations of C and gamma as input by user to print the accuracy and fairness metrics of an SVM model. Similar to before, there are two functions for the same, one considers sample weights and the other does not."
   ]
  },
  {
   "cell_type": "code",
   "execution_count": 8,
   "metadata": {
    "id": "vQ21WTSvgRNI"
   },
   "outputs": [],
   "source": [
    "def simple_model(svm, X_train, X_test, y_train, y_test, test, unprivileged, privileged):\n",
    "\n",
    "  folds = StratifiedKFold(n_splits=5)\n",
    "  for train_ind, test_ind in folds.split(X_train, y_train):\n",
    "    X_trn, X_tst, y_trn, y_tst = X_train[train_ind], X_train[test_ind], y_train[train_ind], y_train[test_ind]\n",
    "    mod_try = svm\n",
    "    mod_try.fit(X_trn, y_trn)\n",
    "\n",
    "  predict_test = mod_try.predict(X_test)\n",
    "  test_pred_try = test.copy()\n",
    "  test_pred_try.labels = predict_test\n",
    "  print(\"Accuracy on test: \", round((mod_try.score(X_test, y_test)*100),2), \"%\")\n",
    "\n",
    "  f_metric = ClassificationMetric(test, test_pred_try, unprivileged_groups=unprivileged, privileged_groups=privileged)\n",
    "\n",
    "  print(\"Equal opportunity difference: \", round(f_metric.equal_opportunity_difference(),3))\n",
    "  print(\"Disparate Impact: \", round(f_metric.disparate_impact(),3))\n",
    "\n",
    "  print(confusion_matrix(test.labels, test_pred_try.labels))\n",
    "\n"
   ]
  },
  {
   "cell_type": "code",
   "execution_count": 9,
   "metadata": {
    "id": "1mJZGWtNgggc"
   },
   "outputs": [],
   "source": [
    "def reweighted_model(svm, X_train, X_test, y_train, y_test, test, unprivileged, privileged, weights):\n",
    "\n",
    "  folds = StratifiedKFold(n_splits=5)\n",
    "  for train_ind, test_ind in folds.split(X_train, y_train):\n",
    "    X_trn, X_tst, y_trn, y_tst = X_train[train_ind], X_train[test_ind], y_train[train_ind], y_train[test_ind]\n",
    "    mod_try = svm\n",
    "    mod_try.fit(X_trn, y_trn, sample_weight=weights[train_ind])     #sample weights\n",
    "\n",
    "  predict_test = mod_try.predict(X_test)\n",
    "  test_pred_try = test.copy()\n",
    "  test_pred_try.labels = predict_test\n",
    "  print(\"Accuracy on test: \", round((mod_try.score(X_test, y_test)*100),2), \"%\")\n",
    "\n",
    "  f_metric = ClassificationMetric(test, test_pred_try, unprivileged_groups=unprivileged, privileged_groups=privileged)\n",
    "  print(\"Equal opportunity difference: \", round(f_metric.equal_opportunity_difference(),3))\n",
    "  print(\"Disparate Impact: \", round(f_metric.disparate_impact(),3))\n",
    "\n",
    "  print(confusion_matrix(test.labels, test_pred_try.labels))\n",
    "\n"
   ]
  },
  {
   "cell_type": "markdown",
   "metadata": {
    "id": "o3Msr0CIg0IW"
   },
   "source": [
    "# TASK 1 "
   ]
  },
  {
   "cell_type": "markdown",
   "metadata": {
    "id": "_zJTtz-Ygtm-"
   },
   "source": [
    "Our analysis begins below. First we import the Bank Marketing dataset dataset  and assigning the values returned for the next steps (i.e., train and test sets). We get to see a bit about the data and the number and types of features in the dataset. To see the effect of changing the parameter values, we will first vary only reglarization term C keeping gamma constant and then plot the respective accuracy and fairness quotients against the C values"
   ]
  },
  {
   "cell_type": "code",
   "execution_count": 10,
   "metadata": {
    "colab": {
     "base_uri": "https://localhost:8080/"
    },
    "id": "Rsy5ss2iglmn",
    "outputId": "1f1f8344-2fc0-45ed-a066-053255ef8be8"
   },
   "outputs": [
    {
     "name": "stdout",
     "output_type": "stream",
     "text": [
      "/usr/local/lib/python3.7/dist-packages/aif360/data/raw/bank\n"
     ]
    }
   ],
   "source": [
    "cd '/usr/local/lib/python3.7/dist-packages/aif360/data/raw/bank'"
   ]
  },
  {
   "cell_type": "code",
   "execution_count": 11,
   "metadata": {
    "colab": {
     "base_uri": "https://localhost:8080/"
    },
    "id": "4hNnoBU4hAb5",
    "outputId": "2820a2b6-7734-4de1-d64c-102b234c93e7"
   },
   "outputs": [
    {
     "name": "stdout",
     "output_type": "stream",
     "text": [
      "--2022-08-14 09:59:31--  https://archive.ics.uci.edu/ml/machine-learning-databases/00222/bank-additional.zip\n",
      "Resolving archive.ics.uci.edu (archive.ics.uci.edu)... 128.195.10.252\n",
      "Connecting to archive.ics.uci.edu (archive.ics.uci.edu)|128.195.10.252|:443... connected.\n",
      "HTTP request sent, awaiting response... 200 OK\n",
      "Length: 444572 (434K) [application/x-httpd-php]\n",
      "Saving to: ‘bank-additional.zip’\n",
      "\n",
      "bank-additional.zip 100%[===================>] 434.15K  --.-KB/s    in 0.1s    \n",
      "\n",
      "2022-08-14 09:59:32 (3.04 MB/s) - ‘bank-additional.zip’ saved [444572/444572]\n",
      "\n"
     ]
    }
   ],
   "source": [
    "!wget https://archive.ics.uci.edu/ml/machine-learning-databases/00222/bank-additional.zip"
   ]
  },
  {
   "cell_type": "markdown",
   "metadata": {},
   "source": [
    "As !weget method was not working corretly for unziping the files, we will use the !curl command"
   ]
  },
  {
   "cell_type": "code",
   "execution_count": 127,
   "metadata": {
    "colab": {
     "base_uri": "https://localhost:8080/"
    },
    "id": "avl2KKZsUUSp",
    "outputId": "d1ba1d69-ff55-4964-c270-00af5c87297c"
   },
   "outputs": [
    {
     "name": "stdout",
     "output_type": "stream",
     "text": [
      "  % Total    % Received % Xferd  Average Speed   Time    Time     Time  Current\n",
      "                                 Dload  Upload   Total   Spent    Left  Speed\n",
      "100  434k  100  434k    0     0  1307k      0 --:--:-- --:--:-- --:--:-- 1307k\n"
     ]
    }
   ],
   "source": [
    "!curl -O https://archive.ics.uci.edu/ml/machine-learning-databases/00222/bank-additional.zip"
   ]
  },
  {
   "cell_type": "code",
   "execution_count": 130,
   "metadata": {
    "colab": {
     "base_uri": "https://localhost:8080/"
    },
    "id": "03d5Vr9yUtUA",
    "outputId": "eabc1e29-8781-499e-a161-bfef7a2956e7"
   },
   "outputs": [
    {
     "name": "stdout",
     "output_type": "stream",
     "text": [
      "Archive:  bank-additional.zip\n",
      "   creating: /usr/local/lib/python3.7/dist-packages/aif360/data/raw/bank/bank-additional/\n",
      "  inflating: /usr/local/lib/python3.7/dist-packages/aif360/data/raw/bank/bank-additional/.DS_Store  \n",
      "   creating: /usr/local/lib/python3.7/dist-packages/aif360/data/raw/bank/__MACOSX/\n",
      "   creating: /usr/local/lib/python3.7/dist-packages/aif360/data/raw/bank/__MACOSX/bank-additional/\n",
      "  inflating: /usr/local/lib/python3.7/dist-packages/aif360/data/raw/bank/__MACOSX/bank-additional/._.DS_Store  \n",
      "  inflating: /usr/local/lib/python3.7/dist-packages/aif360/data/raw/bank/bank-additional/.Rhistory  \n",
      "  inflating: /usr/local/lib/python3.7/dist-packages/aif360/data/raw/bank/bank-additional/bank-additional-full.csv  \n",
      "  inflating: /usr/local/lib/python3.7/dist-packages/aif360/data/raw/bank/bank-additional/bank-additional-names.txt  \n",
      "  inflating: /usr/local/lib/python3.7/dist-packages/aif360/data/raw/bank/bank-additional/bank-additional.csv  \n",
      "  inflating: /usr/local/lib/python3.7/dist-packages/aif360/data/raw/bank/__MACOSX/._bank-additional  \n"
     ]
    }
   ],
   "source": [
    "!unzip -o bank-additional.zip -d /usr/local/lib/python3.7/dist-packages/aif360/data/raw/bank "
   ]
  },
  {
   "cell_type": "code",
   "execution_count": 131,
   "metadata": {
    "id": "3I4TtqvPVDH7"
   },
   "outputs": [],
   "source": [
    "!mv /usr/local/lib/python3.7/dist-packages/aif360/data/raw/bank/bank-additional/bank-additional-full.csv /usr/local/lib/python3.7/dist-packages/aif360/data/raw/bank/bank-additional-full.csv"
   ]
  },
  {
   "cell_type": "code",
   "execution_count": 132,
   "metadata": {
    "colab": {
     "base_uri": "https://localhost:8080/"
    },
    "id": "pw-VCJOUhHJZ",
    "outputId": "5b0555d9-a971-4362-edc8-847ce7dd850e"
   },
   "outputs": [
    {
     "name": "stderr",
     "output_type": "stream",
     "text": [
      "WARNING:root:Missing Data: 10641 rows removed from BankDataset.\n"
     ]
    }
   ],
   "source": [
    "from sklearn.preprocessing import StandardScaler\n",
    "dataset_original = BankDataset(protected_attribute_names=['age'],                                                                                                                                                 # consider in this evaluation\n",
    "                             privileged_classes=[lambda x: x >= 25],      # age >=25 is privileged group and age< 25 is unprivilledged \n",
    "                             features_to_drop=['contact', 'marital']) \n",
    "\n",
    "train_bk, test_bk = dataset_original.split([0.7], shuffle=True)\n",
    "scale_orig = StandardScaler()\n",
    "X_train_bk = scale_orig.fit_transform(train_bk.features)\n",
    "y_train_bk = train_bk.labels.ravel()\n",
    "\n",
    "X_test_bk = scale_orig.transform(test_bk.features) \n",
    "y_test_bk = test_bk.labels.ravel()\n",
    "\n",
    "\n",
    "\n",
    "privileged_bank = [{'age': 1}]\n",
    "unprivileged_bank = [{'age': 0}]"
   ]
  },
  {
   "cell_type": "code",
   "execution_count": 133,
   "metadata": {
    "colab": {
     "base_uri": "https://localhost:8080/"
    },
    "id": "BT4iiS81hc_M",
    "outputId": "5164a7b1-5430-41aa-8230-4de9187ea402"
   },
   "outputs": [
    {
     "name": "stdout",
     "output_type": "stream",
     "text": [
      "Preprocessed dataset shape :  (30547, 52)\n",
      "Shape of training dataset:  (21382, 52)\n",
      "Shape of testing dataset:  (9165, 52)\n"
     ]
    }
   ],
   "source": [
    "print(\"Preprocessed dataset shape : \",dataset_original.features.shape)\n",
    "print(\"Shape of training dataset: \", train_bk.features.shape)\n",
    "print(\"Shape of testing dataset: \", test_bk.features.shape)\n"
   ]
  },
  {
   "cell_type": "code",
   "execution_count": 18,
   "metadata": {
    "colab": {
     "base_uri": "https://localhost:8080/",
     "height": 535
    },
    "id": "VfgPPtIHho4i",
    "outputId": "a06e93d4-de05-42da-a2cb-976a36aeb02b"
   },
   "outputs": [
    {
     "name": "stdout",
     "output_type": "stream",
     "text": [
      "Maximum accuracy value on training set:  87.78 %\n",
      "Hyperparameter values to achieve maximum accuracy:  ['C=15.797894736842105_gamma=0.1']\n",
      "Minimum error value:  0.6201\n",
      "Hyperparameter values to achieve maximum fairness (i.e. Equal opportunity for both classes):  ['C=47.373684210526314_gamma=0.1']\n"
     ]
    },
    {
     "data": {
      "image/png": "[encoded data removed]",
      "text/plain": [
       "<Figure size 720x504 with 2 Axes>"
      ]
     },
     "metadata": {
      "needs_background": "light"
     },
     "output_type": "display_data"
    }
   ],
   "source": [
    "c_variable = list(np.linspace(0.01, 100, 20))\n",
    "gamma_const = [0.1]\n",
    "\n",
    "\n",
    "x_for_c, const_gamma, y_accuracy_varc, y_error_varc = tune_hyperparameters(c_variable, gamma_const, X_train_bk, y_train_bk)\n",
    "\n",
    "fig,ax = plt.subplots(figsize=(10,7))\n",
    "ax.plot(x_for_c, list(y_error_varc.values()), marker = 'o', color = 'r')\n",
    "ax.set_xlabel(\"C\",fontsize=14)\n",
    "ax.set_ylabel(\"fairness\",color=\"red\",fontsize=14)\n",
    "ax.set_xscale('log')\n",
    "\n",
    "# twin object for two different y-axis\n",
    "ax2=ax.twinx()\n",
    "ax2.plot(x_for_c, list(y_accuracy_varc.values()), marker = 'o')\n",
    "ax2.set_ylabel(\"accuracy\",color=\"blue\",fontsize=14)\n",
    "ax2.set_xscale('log')\n",
    "plt.title(\"Variation of accuracy and Fairness of models with varying C value\")\n",
    "\n"
   ]
  },
  {
   "cell_type": "code",
   "execution_count": 23,
   "metadata": {
    "colab": {
     "base_uri": "https://localhost:8080/",
     "height": 479
    },
    "id": "_6YNOJ_KYSuK",
    "outputId": "ce02dfbb-88b5-4ad0-b192-e8eefad38856"
   },
   "outputs": [
    {
     "data": {
      "text/plain": [
       "Text(0.5, 1.0, 'Variation of accuracy and Fairness of models with varying C value')"
      ]
     },
     "execution_count": 23,
     "metadata": {},
     "output_type": "execute_result"
    },
    {
     "data": {
      "image/png": "[encoded data removed]",
      "text/plain": [
       "<Figure size 720x504 with 2 Axes>"
      ]
     },
     "metadata": {
      "needs_background": "light"
     },
     "output_type": "display_data"
    }
   ],
   "source": [
    "fig,ax = plt.subplots(figsize=(10,7))\n",
    "ax.plot(x_for_c, list(y_error_varc.values()), marker = 'o', color = 'r')\n",
    "ax.set_xlabel(\"C\",fontsize=14)\n",
    "ax.set_ylabel(\"fairness\",color=\"red\",fontsize=14)\n",
    "\n",
    "\n",
    "# twin object for two different y-axis\n",
    "ax2=ax.twinx()\n",
    "ax2.plot(x_for_c, list(y_accuracy_varc.values()), marker = 'o')\n",
    "ax2.set_ylabel(\"accuracy\",color=\"blue\",fontsize=14)\n",
    "plt.title(\"Variation of accuracy and Fairness of models with varying C value\")\n",
    "\n"
   ]
  },
  {
   "cell_type": "code",
   "execution_count": 20,
   "metadata": {
    "colab": {
     "base_uri": "https://localhost:8080/",
     "height": 553
    },
    "id": "c0J9spUTj8wn",
    "outputId": "8092b1f1-bc33-4356-a6c2-eec828aa0aef"
   },
   "outputs": [
    {
     "name": "stdout",
     "output_type": "stream",
     "text": [
      "Maximum accuracy value on training set:  89.89 %\n",
      "Hyperparameter values to achieve maximum accuracy:  ['C=1_gamma=0.01']\n",
      "Minimum error value:  0.6008\n",
      "Hyperparameter values to achieve maximum fairness (i.e. Equal opportunity for both classes):  ['C=1_gamma=0.01']\n"
     ]
    },
    {
     "data": {
      "text/plain": [
       "Text(0.5, 1.0, 'Variation of accuracy and Fairness of models with varying gamma value')"
      ]
     },
     "execution_count": 20,
     "metadata": {},
     "output_type": "execute_result"
    },
    {
     "data": {
      "image/png": "[encoded data removed]",
      "text/plain": [
       "<Figure size 720x504 with 2 Axes>"
      ]
     },
     "metadata": {
      "needs_background": "light"
     },
     "output_type": "display_data"
    }
   ],
   "source": [
    "\n",
    "c_const = [1]\n",
    "gamma_variable = list(np.linspace(0.01, 1, 20))\n",
    "\n",
    "cvalconst, x_for_g, y_accuracy_varg, y_error_varg = tune_hyperparameters(c_const, gamma_variable, X_train_bk, y_train_bk)\n",
    "from matplotlib.pyplot import figure\n",
    "fig,ax = plt.subplots(figsize=(10,7))\n",
    "ax.plot(x_for_g, list(y_error_varg.values()), marker = 'o', color = 'r')\n",
    "ax.set_xlabel(\"gamma\",fontsize=14)\n",
    "ax.set_ylabel(\"fairness\",color=\"red\",fontsize=14)\n",
    "ax.set_xscale('log')\n",
    "\n",
    "# twin object for two different y-axis\n",
    "ax2=ax.twinx()\n",
    "ax2.plot(x_for_g, list(y_accuracy_varg.values()), marker = 'o')\n",
    "ax2.set_ylabel(\"accuracy\",color=\"blue\",fontsize=14)\n",
    "ax2.set_xscale('log')\n",
    "plt.title(\"Variation of accuracy and Fairness of models with varying gamma value\")\n"
   ]
  },
  {
   "cell_type": "code",
   "execution_count": 48,
   "metadata": {
    "colab": {
     "base_uri": "https://localhost:8080/",
     "height": 479
    },
    "id": "RzXFvuvvMSGz",
    "outputId": "cb1c725c-59c8-4a00-f8b8-ed4766afe46a"
   },
   "outputs": [
    {
     "data": {
      "text/plain": [
       "Text(0.5, 1.0, 'Variation of accuracy and Fairness of models with varying gamma value')"
      ]
     },
     "execution_count": 48,
     "metadata": {},
     "output_type": "execute_result"
    },
    {
     "data": {
      "image/png": "[encoded data removed]",
      "text/plain": [
       "<Figure size 720x504 with 2 Axes>"
      ]
     },
     "metadata": {
      "needs_background": "light"
     },
     "output_type": "display_data"
    }
   ],
   "source": [
    "from matplotlib.pyplot import figure\n",
    "fig,ax = plt.subplots(figsize=(10,7))\n",
    "ax.plot(x_for_g, list(y_error_varg.values()), marker = 'o', color = 'r')\n",
    "ax.set_xlabel(\"gamma\",fontsize=14)\n",
    "ax.set_ylabel(\"fairness\",color=\"red\",fontsize=14)\n",
    "\n",
    "\n",
    "# twin object for two different y-axis\n",
    "ax2=ax.twinx()\n",
    "ax2.plot(x_for_g, list(y_accuracy_varg.values()), marker = 'o')\n",
    "ax2.set_ylabel(\"accuracy\",color=\"blue\",fontsize=14)\n",
    "\n",
    "plt.title(\"Variation of accuracy and Fairness of models with varying gamma value\")\n"
   ]
  },
  {
   "cell_type": "code",
   "execution_count": 21,
   "metadata": {
    "colab": {
     "base_uri": "https://localhost:8080/",
     "height": 479
    },
    "id": "luWEYboo20tF",
    "outputId": "5b2e63d9-f2f5-4b23-8ccc-e9fb4e72fbfc"
   },
   "outputs": [
    {
     "data": {
      "text/plain": [
       "Text(0.5, 1.0, 'Variation of accuracy and Fairness of models with varying gamma value')"
      ]
     },
     "execution_count": 21,
     "metadata": {},
     "output_type": "execute_result"
    },
    {
     "data": {
      "image/png": "[encoded data removed]",
      "text/plain": [
       "<Figure size 720x504 with 2 Axes>"
      ]
     },
     "metadata": {
      "needs_background": "light"
     },
     "output_type": "display_data"
    }
   ],
   "source": [
    "from matplotlib.pyplot import figure\n",
    "fig,ax = plt.subplots(figsize=(10,7))\n",
    "ax.plot(x_for_g, list(y_error_varg.values()), marker = 'o', color = 'r')\n",
    "ax.set_xlabel(\"gamma\",fontsize=14)\n",
    "ax.set_ylabel(\"fairness\",color=\"red\",fontsize=14)\n",
    "\n",
    "\n",
    "# twin object for two different y-axis\n",
    "ax2=ax.twinx()\n",
    "ax2.plot(x_for_g, list(y_accuracy_varg.values()), marker = 'o')\n",
    "ax2.set_ylabel(\"accuracy\",color=\"blue\",fontsize=14)\n",
    "plt.title(\"Variation of accuracy and Fairness of models with varying gamma value\")\n"
   ]
  },
  {
   "cell_type": "code",
   "execution_count": 33,
   "metadata": {
    "colab": {
     "base_uri": "https://localhost:8080/"
    },
    "id": "oerkrwS-p3dk",
    "outputId": "7b700f47-5219-4530-89f0-83801573fe0b"
   },
   "outputs": [
    {
     "name": "stdout",
     "output_type": "stream",
     "text": [
      "Maximum accuracy value on training set:  89.89 %\n",
      "Hyperparameter values to achieve maximum accuracy:  ['C=1_gamma=0.01']\n",
      "Minimum error value:  0.5148\n",
      "Hyperparameter values to achieve maximum fairness (i.e. Equal opportunity for both classes):  ['C=10_gamma=0.01']\n"
     ]
    }
   ],
   "source": [
    "c_variable = [0.01,0.1, 1, 10]\n",
    "gamma_variable = [0.001, 0.01, 0.1, 1]\n",
    "\n",
    "a, b, c, d = tune_hyperparameters(c_variable, gamma_variable, X_train_bk, y_train_bk)\n"
   ]
  },
  {
   "cell_type": "code",
   "execution_count": 34,
   "metadata": {
    "colab": {
     "base_uri": "https://localhost:8080/",
     "height": 551
    },
    "id": "9mHGIWnJdqbz",
    "outputId": "fd5ac120-fd48-4477-cb3e-d1cfc8211d19"
   },
   "outputs": [
    {
     "data": {
      "text/html": [
       "\n",
       "  <div id=\"df-77edf7d9-2eec-423f-8efc-73d68a60dbea\">\n",
       "    <div class=\"colab-df-container\">\n",
       "      <div>\n",
       "<style scoped>\n",
       "    .dataframe tbody tr th:only-of-type {\n",
       "        vertical-align: middle;\n",
       "    }\n",
       "\n",
       "    .dataframe tbody tr th {\n",
       "        vertical-align: top;\n",
       "    }\n",
       "\n",
       "    .dataframe thead th {\n",
       "        text-align: right;\n",
       "    }\n",
       "</style>\n",
       "<table border=\"1\" class=\"dataframe\">\n",
       "  <thead>\n",
       "    <tr style=\"text-align: right;\">\n",
       "      <th></th>\n",
       "      <th>Hyperparameters</th>\n",
       "      <th>Accuracy</th>\n",
       "      <th>Equality difference</th>\n",
       "    </tr>\n",
       "  </thead>\n",
       "  <tbody>\n",
       "    <tr>\n",
       "      <th>9</th>\n",
       "      <td>C=1_gamma=0.01</td>\n",
       "      <td>0.898887</td>\n",
       "      <td>0.600821</td>\n",
       "    </tr>\n",
       "    <tr>\n",
       "      <th>13</th>\n",
       "      <td>C=10_gamma=0.01</td>\n",
       "      <td>0.898513</td>\n",
       "      <td>0.514836</td>\n",
       "    </tr>\n",
       "    <tr>\n",
       "      <th>12</th>\n",
       "      <td>C=10_gamma=0.001</td>\n",
       "      <td>0.897203</td>\n",
       "      <td>0.635745</td>\n",
       "    </tr>\n",
       "    <tr>\n",
       "      <th>8</th>\n",
       "      <td>C=1_gamma=0.001</td>\n",
       "      <td>0.889533</td>\n",
       "      <td>0.729866</td>\n",
       "    </tr>\n",
       "    <tr>\n",
       "      <th>4</th>\n",
       "      <td>C=0.1_gamma=0.001</td>\n",
       "      <td>0.887148</td>\n",
       "      <td>0.777531</td>\n",
       "    </tr>\n",
       "    <tr>\n",
       "      <th>5</th>\n",
       "      <td>C=0.1_gamma=0.01</td>\n",
       "      <td>0.887101</td>\n",
       "      <td>0.771549</td>\n",
       "    </tr>\n",
       "    <tr>\n",
       "      <th>10</th>\n",
       "      <td>C=1_gamma=0.1</td>\n",
       "      <td>0.881536</td>\n",
       "      <td>0.801163</td>\n",
       "    </tr>\n",
       "    <tr>\n",
       "      <th>14</th>\n",
       "      <td>C=10_gamma=0.1</td>\n",
       "      <td>0.877561</td>\n",
       "      <td>0.640768</td>\n",
       "    </tr>\n",
       "    <tr>\n",
       "      <th>0</th>\n",
       "      <td>C=0.01_gamma=0.001</td>\n",
       "      <td>0.873585</td>\n",
       "      <td>1.000000</td>\n",
       "    </tr>\n",
       "    <tr>\n",
       "      <th>1</th>\n",
       "      <td>C=0.01_gamma=0.01</td>\n",
       "      <td>0.873585</td>\n",
       "      <td>1.000000</td>\n",
       "    </tr>\n",
       "    <tr>\n",
       "      <th>2</th>\n",
       "      <td>C=0.01_gamma=0.1</td>\n",
       "      <td>0.873585</td>\n",
       "      <td>1.000000</td>\n",
       "    </tr>\n",
       "    <tr>\n",
       "      <th>3</th>\n",
       "      <td>C=0.01_gamma=1</td>\n",
       "      <td>0.873585</td>\n",
       "      <td>1.000000</td>\n",
       "    </tr>\n",
       "    <tr>\n",
       "      <th>6</th>\n",
       "      <td>C=0.1_gamma=0.1</td>\n",
       "      <td>0.873585</td>\n",
       "      <td>1.000000</td>\n",
       "    </tr>\n",
       "    <tr>\n",
       "      <th>7</th>\n",
       "      <td>C=0.1_gamma=1</td>\n",
       "      <td>0.873585</td>\n",
       "      <td>1.000000</td>\n",
       "    </tr>\n",
       "    <tr>\n",
       "      <th>11</th>\n",
       "      <td>C=1_gamma=1</td>\n",
       "      <td>0.872556</td>\n",
       "      <td>0.951809</td>\n",
       "    </tr>\n",
       "    <tr>\n",
       "      <th>15</th>\n",
       "      <td>C=10_gamma=1</td>\n",
       "      <td>0.865962</td>\n",
       "      <td>0.887516</td>\n",
       "    </tr>\n",
       "  </tbody>\n",
       "</table>\n",
       "</div>\n",
       "      <button class=\"colab-df-convert\" onclick=\"convertToInteractive('df-77edf7d9-2eec-423f-8efc-73d68a60dbea')\"\n",
       "              title=\"Convert this dataframe to an interactive table.\"\n",
       "              style=\"display:none;\">\n",
       "        \n",
       "  <svg xmlns=\"http://www.w3.org/2000/svg\" height=\"24px\"viewBox=\"0 0 24 24\"\n",
       "       width=\"24px\">\n",
       "    <path d=\"M0 0h24v24H0V0z\" fill=\"none\"/>\n",
       "    <path d=\"M18.56 5.44l.94 2.06.94-2.06 2.06-.94-2.06-.94-.94-2.06-.94 2.06-2.06.94zm-11 1L8.5 8.5l.94-2.06 2.06-.94-2.06-.94L8.5 2.5l-.94 2.06-2.06.94zm10 10l.94 2.06.94-2.06 2.06-.94-2.06-.94-.94-2.06-.94 2.06-2.06.94z\"/><path d=\"M17.41 7.96l-1.37-1.37c-.4-.4-.92-.59-1.43-.59-.52 0-1.04.2-1.43.59L10.3 9.45l-7.72 7.72c-.78.78-.78 2.05 0 2.83L4 21.41c.39.39.9.59 1.41.59.51 0 1.02-.2 1.41-.59l7.78-7.78 2.81-2.81c.8-.78.8-2.07 0-2.86zM5.41 20L4 18.59l7.72-7.72 1.47 1.35L5.41 20z\"/>\n",
       "  </svg>\n",
       "      </button>\n",
       "      \n",
       "  <style>\n",
       "    .colab-df-container {\n",
       "      display:flex;\n",
       "      flex-wrap:wrap;\n",
       "      gap: 12px;\n",
       "    }\n",
       "\n",
       "    .colab-df-convert {\n",
       "      background-color: #E8F0FE;\n",
       "      border: none;\n",
       "      border-radius: 50%;\n",
       "      cursor: pointer;\n",
       "      display: none;\n",
       "      fill: #1967D2;\n",
       "      height: 32px;\n",
       "      padding: 0 0 0 0;\n",
       "      width: 32px;\n",
       "    }\n",
       "\n",
       "    .colab-df-convert:hover {\n",
       "      background-color: #E2EBFA;\n",
       "      box-shadow: 0px 1px 2px rgba(60, 64, 67, 0.3), 0px 1px 3px 1px rgba(60, 64, 67, 0.15);\n",
       "      fill: #174EA6;\n",
       "    }\n",
       "\n",
       "    [theme=dark] .colab-df-convert {\n",
       "      background-color: #3B4455;\n",
       "      fill: #D2E3FC;\n",
       "    }\n",
       "\n",
       "    [theme=dark] .colab-df-convert:hover {\n",
       "      background-color: #434B5C;\n",
       "      box-shadow: 0px 1px 3px 1px rgba(0, 0, 0, 0.15);\n",
       "      filter: drop-shadow(0px 1px 2px rgba(0, 0, 0, 0.3));\n",
       "      fill: #FFFFFF;\n",
       "    }\n",
       "  </style>\n",
       "\n",
       "      <script>\n",
       "        const buttonEl =\n",
       "          document.querySelector('#df-77edf7d9-2eec-423f-8efc-73d68a60dbea button.colab-df-convert');\n",
       "        buttonEl.style.display =\n",
       "          google.colab.kernel.accessAllowed ? 'block' : 'none';\n",
       "\n",
       "        async function convertToInteractive(key) {\n",
       "          const element = document.querySelector('#df-77edf7d9-2eec-423f-8efc-73d68a60dbea');\n",
       "          const dataTable =\n",
       "            await google.colab.kernel.invokeFunction('convertToInteractive',\n",
       "                                                     [key], {});\n",
       "          if (!dataTable) return;\n",
       "\n",
       "          const docLinkHtml = 'Like what you see? Visit the ' +\n",
       "            '<a target=\"_blank\" href=https://colab.research.google.com/notebooks/data_table.ipynb>data table notebook</a>'\n",
       "            + ' to learn more about interactive tables.';\n",
       "          element.innerHTML = '';\n",
       "          dataTable['output_type'] = 'display_data';\n",
       "          await google.colab.output.renderOutput(dataTable, element);\n",
       "          const docLink = document.createElement('div');\n",
       "          docLink.innerHTML = docLinkHtml;\n",
       "          element.appendChild(docLink);\n",
       "        }\n",
       "      </script>\n",
       "    </div>\n",
       "  </div>\n",
       "  "
      ],
      "text/plain": [
       "       Hyperparameters  Accuracy  Equality difference\n",
       "9       C=1_gamma=0.01  0.898887             0.600821\n",
       "13     C=10_gamma=0.01  0.898513             0.514836\n",
       "12    C=10_gamma=0.001  0.897203             0.635745\n",
       "8      C=1_gamma=0.001  0.889533             0.729866\n",
       "4    C=0.1_gamma=0.001  0.887148             0.777531\n",
       "5     C=0.1_gamma=0.01  0.887101             0.771549\n",
       "10       C=1_gamma=0.1  0.881536             0.801163\n",
       "14      C=10_gamma=0.1  0.877561             0.640768\n",
       "0   C=0.01_gamma=0.001  0.873585             1.000000\n",
       "1    C=0.01_gamma=0.01  0.873585             1.000000\n",
       "2     C=0.01_gamma=0.1  0.873585             1.000000\n",
       "3       C=0.01_gamma=1  0.873585             1.000000\n",
       "6      C=0.1_gamma=0.1  0.873585             1.000000\n",
       "7        C=0.1_gamma=1  0.873585             1.000000\n",
       "11         C=1_gamma=1  0.872556             0.951809\n",
       "15        C=10_gamma=1  0.865962             0.887516"
      ]
     },
     "execution_count": 34,
     "metadata": {},
     "output_type": "execute_result"
    }
   ],
   "source": [
    "df_bank = pd.DataFrame(c.items(), columns=['Hyperparameters', 'Accuracy'])\n",
    "\n",
    "df_bank[\"Equality difference\"] = df_bank[\"Hyperparameters\"].map(d)\n",
    "df_bank.sort_values(by=[\"Accuracy\"], ascending=False)"
   ]
  },
  {
   "cell_type": "code",
   "execution_count": 35,
   "metadata": {
    "colab": {
     "base_uri": "https://localhost:8080/",
     "height": 551
    },
    "id": "IjN6Ql_hblMs",
    "outputId": "c33fceac-e5ad-4e9b-d918-bb82b43528f6"
   },
   "outputs": [
    {
     "data": {
      "text/html": [
       "\n",
       "  <div id=\"df-659506e0-50f1-45ee-92e1-14aded79f28c\">\n",
       "    <div class=\"colab-df-container\">\n",
       "      <div>\n",
       "<style scoped>\n",
       "    .dataframe tbody tr th:only-of-type {\n",
       "        vertical-align: middle;\n",
       "    }\n",
       "\n",
       "    .dataframe tbody tr th {\n",
       "        vertical-align: top;\n",
       "    }\n",
       "\n",
       "    .dataframe thead th {\n",
       "        text-align: right;\n",
       "    }\n",
       "</style>\n",
       "<table border=\"1\" class=\"dataframe\">\n",
       "  <thead>\n",
       "    <tr style=\"text-align: right;\">\n",
       "      <th></th>\n",
       "      <th>Hyperparameters</th>\n",
       "      <th>Accuracy</th>\n",
       "      <th>Equality difference</th>\n",
       "      <th>Absolute difference</th>\n",
       "    </tr>\n",
       "  </thead>\n",
       "  <tbody>\n",
       "    <tr>\n",
       "      <th>13</th>\n",
       "      <td>C=10_gamma=0.01</td>\n",
       "      <td>0.898513</td>\n",
       "      <td>0.514836</td>\n",
       "      <td>0.514836</td>\n",
       "    </tr>\n",
       "    <tr>\n",
       "      <th>9</th>\n",
       "      <td>C=1_gamma=0.01</td>\n",
       "      <td>0.898887</td>\n",
       "      <td>0.600821</td>\n",
       "      <td>0.600821</td>\n",
       "    </tr>\n",
       "    <tr>\n",
       "      <th>12</th>\n",
       "      <td>C=10_gamma=0.001</td>\n",
       "      <td>0.897203</td>\n",
       "      <td>0.635745</td>\n",
       "      <td>0.635745</td>\n",
       "    </tr>\n",
       "    <tr>\n",
       "      <th>14</th>\n",
       "      <td>C=10_gamma=0.1</td>\n",
       "      <td>0.877561</td>\n",
       "      <td>0.640768</td>\n",
       "      <td>0.640768</td>\n",
       "    </tr>\n",
       "    <tr>\n",
       "      <th>8</th>\n",
       "      <td>C=1_gamma=0.001</td>\n",
       "      <td>0.889533</td>\n",
       "      <td>0.729866</td>\n",
       "      <td>0.729866</td>\n",
       "    </tr>\n",
       "    <tr>\n",
       "      <th>5</th>\n",
       "      <td>C=0.1_gamma=0.01</td>\n",
       "      <td>0.887101</td>\n",
       "      <td>0.771549</td>\n",
       "      <td>0.771549</td>\n",
       "    </tr>\n",
       "    <tr>\n",
       "      <th>4</th>\n",
       "      <td>C=0.1_gamma=0.001</td>\n",
       "      <td>0.887148</td>\n",
       "      <td>0.777531</td>\n",
       "      <td>0.777531</td>\n",
       "    </tr>\n",
       "    <tr>\n",
       "      <th>10</th>\n",
       "      <td>C=1_gamma=0.1</td>\n",
       "      <td>0.881536</td>\n",
       "      <td>0.801163</td>\n",
       "      <td>0.801163</td>\n",
       "    </tr>\n",
       "    <tr>\n",
       "      <th>15</th>\n",
       "      <td>C=10_gamma=1</td>\n",
       "      <td>0.865962</td>\n",
       "      <td>0.887516</td>\n",
       "      <td>0.887516</td>\n",
       "    </tr>\n",
       "    <tr>\n",
       "      <th>11</th>\n",
       "      <td>C=1_gamma=1</td>\n",
       "      <td>0.872556</td>\n",
       "      <td>0.951809</td>\n",
       "      <td>0.951809</td>\n",
       "    </tr>\n",
       "    <tr>\n",
       "      <th>0</th>\n",
       "      <td>C=0.01_gamma=0.001</td>\n",
       "      <td>0.873585</td>\n",
       "      <td>1.000000</td>\n",
       "      <td>1.000000</td>\n",
       "    </tr>\n",
       "    <tr>\n",
       "      <th>1</th>\n",
       "      <td>C=0.01_gamma=0.01</td>\n",
       "      <td>0.873585</td>\n",
       "      <td>1.000000</td>\n",
       "      <td>1.000000</td>\n",
       "    </tr>\n",
       "    <tr>\n",
       "      <th>2</th>\n",
       "      <td>C=0.01_gamma=0.1</td>\n",
       "      <td>0.873585</td>\n",
       "      <td>1.000000</td>\n",
       "      <td>1.000000</td>\n",
       "    </tr>\n",
       "    <tr>\n",
       "      <th>3</th>\n",
       "      <td>C=0.01_gamma=1</td>\n",
       "      <td>0.873585</td>\n",
       "      <td>1.000000</td>\n",
       "      <td>1.000000</td>\n",
       "    </tr>\n",
       "    <tr>\n",
       "      <th>6</th>\n",
       "      <td>C=0.1_gamma=0.1</td>\n",
       "      <td>0.873585</td>\n",
       "      <td>1.000000</td>\n",
       "      <td>1.000000</td>\n",
       "    </tr>\n",
       "    <tr>\n",
       "      <th>7</th>\n",
       "      <td>C=0.1_gamma=1</td>\n",
       "      <td>0.873585</td>\n",
       "      <td>1.000000</td>\n",
       "      <td>1.000000</td>\n",
       "    </tr>\n",
       "  </tbody>\n",
       "</table>\n",
       "</div>\n",
       "      <button class=\"colab-df-convert\" onclick=\"convertToInteractive('df-659506e0-50f1-45ee-92e1-14aded79f28c')\"\n",
       "              title=\"Convert this dataframe to an interactive table.\"\n",
       "              style=\"display:none;\">\n",
       "        \n",
       "  <svg xmlns=\"http://www.w3.org/2000/svg\" height=\"24px\"viewBox=\"0 0 24 24\"\n",
       "       width=\"24px\">\n",
       "    <path d=\"M0 0h24v24H0V0z\" fill=\"none\"/>\n",
       "    <path d=\"M18.56 5.44l.94 2.06.94-2.06 2.06-.94-2.06-.94-.94-2.06-.94 2.06-2.06.94zm-11 1L8.5 8.5l.94-2.06 2.06-.94-2.06-.94L8.5 2.5l-.94 2.06-2.06.94zm10 10l.94 2.06.94-2.06 2.06-.94-2.06-.94-.94-2.06-.94 2.06-2.06.94z\"/><path d=\"M17.41 7.96l-1.37-1.37c-.4-.4-.92-.59-1.43-.59-.52 0-1.04.2-1.43.59L10.3 9.45l-7.72 7.72c-.78.78-.78 2.05 0 2.83L4 21.41c.39.39.9.59 1.41.59.51 0 1.02-.2 1.41-.59l7.78-7.78 2.81-2.81c.8-.78.8-2.07 0-2.86zM5.41 20L4 18.59l7.72-7.72 1.47 1.35L5.41 20z\"/>\n",
       "  </svg>\n",
       "      </button>\n",
       "      \n",
       "  <style>\n",
       "    .colab-df-container {\n",
       "      display:flex;\n",
       "      flex-wrap:wrap;\n",
       "      gap: 12px;\n",
       "    }\n",
       "\n",
       "    .colab-df-convert {\n",
       "      background-color: #E8F0FE;\n",
       "      border: none;\n",
       "      border-radius: 50%;\n",
       "      cursor: pointer;\n",
       "      display: none;\n",
       "      fill: #1967D2;\n",
       "      height: 32px;\n",
       "      padding: 0 0 0 0;\n",
       "      width: 32px;\n",
       "    }\n",
       "\n",
       "    .colab-df-convert:hover {\n",
       "      background-color: #E2EBFA;\n",
       "      box-shadow: 0px 1px 2px rgba(60, 64, 67, 0.3), 0px 1px 3px 1px rgba(60, 64, 67, 0.15);\n",
       "      fill: #174EA6;\n",
       "    }\n",
       "\n",
       "    [theme=dark] .colab-df-convert {\n",
       "      background-color: #3B4455;\n",
       "      fill: #D2E3FC;\n",
       "    }\n",
       "\n",
       "    [theme=dark] .colab-df-convert:hover {\n",
       "      background-color: #434B5C;\n",
       "      box-shadow: 0px 1px 3px 1px rgba(0, 0, 0, 0.15);\n",
       "      filter: drop-shadow(0px 1px 2px rgba(0, 0, 0, 0.3));\n",
       "      fill: #FFFFFF;\n",
       "    }\n",
       "  </style>\n",
       "\n",
       "      <script>\n",
       "        const buttonEl =\n",
       "          document.querySelector('#df-659506e0-50f1-45ee-92e1-14aded79f28c button.colab-df-convert');\n",
       "        buttonEl.style.display =\n",
       "          google.colab.kernel.accessAllowed ? 'block' : 'none';\n",
       "\n",
       "        async function convertToInteractive(key) {\n",
       "          const element = document.querySelector('#df-659506e0-50f1-45ee-92e1-14aded79f28c');\n",
       "          const dataTable =\n",
       "            await google.colab.kernel.invokeFunction('convertToInteractive',\n",
       "                                                     [key], {});\n",
       "          if (!dataTable) return;\n",
       "\n",
       "          const docLinkHtml = 'Like what you see? Visit the ' +\n",
       "            '<a target=\"_blank\" href=https://colab.research.google.com/notebooks/data_table.ipynb>data table notebook</a>'\n",
       "            + ' to learn more about interactive tables.';\n",
       "          element.innerHTML = '';\n",
       "          dataTable['output_type'] = 'display_data';\n",
       "          await google.colab.output.renderOutput(dataTable, element);\n",
       "          const docLink = document.createElement('div');\n",
       "          docLink.innerHTML = docLinkHtml;\n",
       "          element.appendChild(docLink);\n",
       "        }\n",
       "      </script>\n",
       "    </div>\n",
       "  </div>\n",
       "  "
      ],
      "text/plain": [
       "       Hyperparameters  Accuracy  Equality difference  Absolute difference\n",
       "13     C=10_gamma=0.01  0.898513             0.514836             0.514836\n",
       "9       C=1_gamma=0.01  0.898887             0.600821             0.600821\n",
       "12    C=10_gamma=0.001  0.897203             0.635745             0.635745\n",
       "14      C=10_gamma=0.1  0.877561             0.640768             0.640768\n",
       "8      C=1_gamma=0.001  0.889533             0.729866             0.729866\n",
       "5     C=0.1_gamma=0.01  0.887101             0.771549             0.771549\n",
       "4    C=0.1_gamma=0.001  0.887148             0.777531             0.777531\n",
       "10       C=1_gamma=0.1  0.881536             0.801163             0.801163\n",
       "15        C=10_gamma=1  0.865962             0.887516             0.887516\n",
       "11         C=1_gamma=1  0.872556             0.951809             0.951809\n",
       "0   C=0.01_gamma=0.001  0.873585             1.000000             1.000000\n",
       "1    C=0.01_gamma=0.01  0.873585             1.000000             1.000000\n",
       "2     C=0.01_gamma=0.1  0.873585             1.000000             1.000000\n",
       "3       C=0.01_gamma=1  0.873585             1.000000             1.000000\n",
       "6      C=0.1_gamma=0.1  0.873585             1.000000             1.000000\n",
       "7        C=0.1_gamma=1  0.873585             1.000000             1.000000"
      ]
     },
     "execution_count": 35,
     "metadata": {},
     "output_type": "execute_result"
    }
   ],
   "source": [
    "\n",
    "df_bank[\"Absolute difference\"]=abs(df_bank[\"Equality difference\"])\n",
    "df_bank.sort_values(by=[\"Absolute difference\"])"
   ]
  },
  {
   "cell_type": "markdown",
   "metadata": {
    "id": "STh87GHC3kY_"
   },
   "source": [
    "WIn the dataframe, we add a new column called Absolute difference, which represents the absolute value of EOD. It is useful to know precisely how distant a point is from the 0 point. The SVC(C=10, gamma=0.01) model has the highest accuracy on the training set, according to our output, with a score of 89.95%, however it also has a high EOD 0.5148. The most ideal parameters must be selected, thus proper considerations must be made.\n",
    "\n",
    "Our next job is to apply the respective models with parameters obtained above on the test sets to see how they fare."
   ]
  },
  {
   "cell_type": "markdown",
   "metadata": {
    "id": "AXRvbNedkfOG"
   },
   "source": [
    "Most Accurate model with c= 10 and gamma = 0.01"
   ]
  },
  {
   "cell_type": "code",
   "execution_count": 36,
   "metadata": {
    "colab": {
     "base_uri": "https://localhost:8080/"
    },
    "id": "MbXCP4cX2a8h",
    "outputId": "ab9e3c49-1150-4787-9110-a9a3c6b24958"
   },
   "outputs": [
    {
     "name": "stdout",
     "output_type": "stream",
     "text": [
      "Accuracy on test:  89.49 %\n",
      "Equal opportunity difference:  0.045\n",
      "Disparate Impact:  1.7\n",
      "[[7773  227]\n",
      " [ 736  429]]\n"
     ]
    }
   ],
   "source": [
    "simple_model(SVC(C=1, gamma=0.01, kernel='rbf'), X_train_bk, X_test_bk, y_train_bk, y_test_bk, test_bk, unprivileged_bank, privileged_bank)"
   ]
  },
  {
   "cell_type": "markdown",
   "metadata": {
    "id": "4XZV9uCik_mX"
   },
   "source": [
    "Most Fair Model"
   ]
  },
  {
   "cell_type": "code",
   "execution_count": 37,
   "metadata": {
    "colab": {
     "base_uri": "https://localhost:8080/"
    },
    "id": "UwoBGiBW4gI0",
    "outputId": "313d06a4-caaf-491d-8c95-fe431f70c10b"
   },
   "outputs": [
    {
     "name": "stdout",
     "output_type": "stream",
     "text": [
      "Accuracy on test:  89.13 %\n",
      "Equal opportunity difference:  -0.009\n",
      "Disparate Impact:  1.712\n",
      "[[7660  340]\n",
      " [ 656  509]]\n"
     ]
    }
   ],
   "source": [
    "simple_model(SVC(C=10, gamma=0.01, kernel='rbf'), X_train_bk, X_test_bk, y_train_bk, y_test_bk, test_bk, unprivileged_bank, privileged_bank)"
   ]
  },
  {
   "cell_type": "markdown",
   "metadata": {
    "id": "93kz7kPE5pT6"
   },
   "source": [
    "Higher values of C and gamma, as expected, contributed the most to accuracy. It would make sense because the model seeks to reduce misclassifications in order to increase accuracy and a high value of C indicates heavier penalties on points categorised improperly. A greater gamma value, on the other hand, suggests class similarity within a narrower space. In the fair model, when gamma is low, similarities in the samples spanning greater distances are taken into account, which could lead to inaccurate classification (with low penalties as well if C is low as in fair model). This demonstrates that a fairer model is less accurate but more generalizable.\n",
    "\n",
    "We perform all the above task again on a new dataset called Adult where again, classification is based on a protected feature \"sex\" and the model is still SVM."
   ]
  },
  {
   "cell_type": "code",
   "execution_count": 38,
   "metadata": {
    "colab": {
     "base_uri": "https://localhost:8080/"
    },
    "id": "lvd86Sk14tkf",
    "outputId": "1f96e72b-97d1-4f35-df54-523fb7df61e7"
   },
   "outputs": [
    {
     "name": "stdout",
     "output_type": "stream",
     "text": [
      "/usr/local/lib/python3.7/dist-packages/aif360/data/raw/adult\n"
     ]
    }
   ],
   "source": [
    "cd /usr/local/lib/python3.7/dist-packages/aif360/data/raw/adult"
   ]
  },
  {
   "cell_type": "code",
   "execution_count": null,
   "metadata": {
    "id": "tKWwK0Cc56Ww"
   },
   "outputs": [],
   "source": [
    "!wget https://archive.ics.uci.edu/ml/machine-learning-databases/adult/adult.data\n",
    "!wget https://archive.ics.uci.edu/ml/machine-learning-databases/adult/adult.names\n",
    "!wget https://archive.ics.uci.edu/ml/machine-learning-databases/adult/adult.test"
   ]
  },
  {
   "cell_type": "code",
   "execution_count": 40,
   "metadata": {
    "colab": {
     "base_uri": "https://localhost:8080/"
    },
    "id": "drHqPqfl58-w",
    "outputId": "8f114717-3b27-413a-9017-ab9541dea850"
   },
   "outputs": [
    {
     "name": "stdout",
     "output_type": "stream",
     "text": [
      "training data size (34189, 18)\n",
      "dataset feature names ['race', 'sex', 'Age (decade)=10', 'Age (decade)=20', 'Age (decade)=30', 'Age (decade)=40', 'Age (decade)=50', 'Age (decade)=60', 'Age (decade)=>=70', 'Education Years=6', 'Education Years=7', 'Education Years=8', 'Education Years=9', 'Education Years=10', 'Education Years=11', 'Education Years=12', 'Education Years=<6', 'Education Years=>12']\n"
     ]
    }
   ],
   "source": [
    "from aif360.datasets import AdultDataset\n",
    "from aif360.algorithms.preprocessing.optim_preproc_helpers.data_preproc_functions import load_preproc_data_adult\n",
    "privileged_adult, unprivileged_adult, train_ad, test_ad, X_train_ad, y_train_ad, X_test_ad, y_test_ad = dataset(load_preproc_data_adult)"
   ]
  },
  {
   "cell_type": "code",
   "execution_count": 41,
   "metadata": {
    "colab": {
     "base_uri": "https://localhost:8080/"
    },
    "id": "U_qebA0q8QOJ",
    "outputId": "8996d2dd-5534-474a-ae72-c8f26681211b"
   },
   "outputs": [
    {
     "name": "stdout",
     "output_type": "stream",
     "text": [
      "Maximum accuracy value on training set:  80.3 %\n",
      "Hyperparameter values to achieve maximum accuracy:  ['C=4.2163157894736845_gamma=0.1', 'C=4.742105263157895_gamma=0.1', 'C=5.267894736842106_gamma=0.1', 'C=5.793684210526316_gamma=0.1', 'C=6.319473684210527_gamma=0.1', 'C=6.845263157894737_gamma=0.1', 'C=7.371052631578948_gamma=0.1', 'C=7.8968421052631586_gamma=0.1', 'C=8.42263157894737_gamma=0.1', 'C=8.948421052631579_gamma=0.1', 'C=9.47421052631579_gamma=0.1', 'C=10.0_gamma=0.1']\n",
      "Minimum error value:  0.5235\n",
      "Hyperparameter values to achieve maximum fairness (i.e. Equal opportunity for both classes):  ['C=4.2163157894736845_gamma=0.1', 'C=4.742105263157895_gamma=0.1', 'C=5.267894736842106_gamma=0.1', 'C=5.793684210526316_gamma=0.1', 'C=6.319473684210527_gamma=0.1', 'C=6.845263157894737_gamma=0.1', 'C=7.371052631578948_gamma=0.1', 'C=7.8968421052631586_gamma=0.1', 'C=8.42263157894737_gamma=0.1', 'C=8.948421052631579_gamma=0.1', 'C=9.47421052631579_gamma=0.1', 'C=10.0_gamma=0.1']\n"
     ]
    }
   ],
   "source": [
    "c_variable_ad = list(np.linspace(0.01, 10, 20))\n",
    "gamma_const_ad = [0.1]\n",
    "\n",
    "cval_adult, gval_adult, adult_accuracy, adult_fair = tune_hyperparameters(c_variable_ad, gamma_const_ad, X_train_ad, y_train_ad)"
   ]
  },
  {
   "cell_type": "code",
   "execution_count": 47,
   "metadata": {
    "colab": {
     "base_uri": "https://localhost:8080/",
     "height": 479
    },
    "id": "X00vFU558k1_",
    "outputId": "1d1dbaf5-8932-4124-d0af-af6243ac8002"
   },
   "outputs": [
    {
     "data": {
      "text/plain": [
       "Text(0.5, 1.0, 'Variation of accuracy and Fairness of models with varying C value on Adult dataset')"
      ]
     },
     "execution_count": 47,
     "metadata": {},
     "output_type": "execute_result"
    },
    {
     "data": {
      "image/png": "[encoded data removed]",
      "text/plain": [
       "<Figure size 720x504 with 2 Axes>"
      ]
     },
     "metadata": {
      "needs_background": "light"
     },
     "output_type": "display_data"
    }
   ],
   "source": [
    "from matplotlib.pyplot import figure\n",
    "fig,ax = plt.subplots(figsize=(10,7))\n",
    "ax.plot(cval_adult, list(adult_accuracy.values()), marker = 'o', color = 'r')\n",
    "ax.set_xlabel(\"C\",fontsize=14)\n",
    "ax.set_ylabel(\"fairness\",color=\"red\",fontsize=14)\n",
    "\n",
    "\n",
    "\n",
    "# twin object for two different y-axis\n",
    "ax2=ax.twinx()\n",
    "ax2.plot(cval_adult, list(adult_fair.values()), marker = 'o')\n",
    "ax2.set_ylabel(\"accuracy\",color=\"blue\",fontsize=14)\n",
    "\n",
    "plt.title(\"Variation of accuracy and Fairness of models with varying C value on Adult dataset\")\n"
   ]
  },
  {
   "cell_type": "code",
   "execution_count": 43,
   "metadata": {
    "colab": {
     "base_uri": "https://localhost:8080/"
    },
    "id": "bxIjI4dg8qoR",
    "outputId": "1ae616fe-339b-438c-f1a6-e166404b1c9e"
   },
   "outputs": [
    {
     "name": "stdout",
     "output_type": "stream",
     "text": [
      "Maximum accuracy value on training set:  80.39 %\n",
      "Hyperparameter values to achieve maximum accuracy:  ['C=0.1_gamma=0.1']\n",
      "Minimum error value:  0.5235\n",
      "Hyperparameter values to achieve maximum fairness (i.e. Equal opportunity for both classes):  ['C=4.268421052631579_gamma=0.1', 'C=4.7894736842105265_gamma=0.1', 'C=5.310526315789474_gamma=0.1', 'C=5.831578947368421_gamma=0.1', 'C=6.352631578947369_gamma=0.1', 'C=6.873684210526316_gamma=0.1', 'C=7.394736842105264_gamma=0.1', 'C=7.915789473684211_gamma=0.1', 'C=8.436842105263159_gamma=0.1', 'C=8.957894736842105_gamma=0.1', 'C=9.478947368421053_gamma=0.1', 'C=10.0_gamma=0.1']\n"
     ]
    }
   ],
   "source": [
    "c_variable_ad1 = list(np.linspace(0.1, 10, 20))\n",
    "gamma_const_ad1 = [0.1]\n",
    "\n",
    "cval_adult, gval_adult, adult_accuracy, adult_fair = tune_hyperparameters(c_variable_ad1, gamma_const_ad1, X_train_ad, y_train_ad)"
   ]
  },
  {
   "cell_type": "code",
   "execution_count": 45,
   "metadata": {
    "colab": {
     "base_uri": "https://localhost:8080/",
     "height": 479
    },
    "id": "xw3A6d8hLEdL",
    "outputId": "07d4b047-1fc7-4f06-a120-65c4545d7652"
   },
   "outputs": [
    {
     "data": {
      "text/plain": [
       "Text(0.5, 1.0, 'Variation of accuracy and Fairness of models with varying C value on Adult dataset')"
      ]
     },
     "execution_count": 45,
     "metadata": {},
     "output_type": "execute_result"
    },
    {
     "data": {
      "image/png": "[encoded data removed]",
      "text/plain": [
       "<Figure size 720x504 with 2 Axes>"
      ]
     },
     "metadata": {
      "needs_background": "light"
     },
     "output_type": "display_data"
    }
   ],
   "source": [
    "from matplotlib.pyplot import figure\n",
    "fig,ax = plt.subplots(figsize=(10,7))\n",
    "ax.plot(cval_adult, list(adult_accuracy.values()), marker = 'o', color = 'r')\n",
    "ax.set_xlabel(\"C\",fontsize=14)\n",
    "ax.set_ylabel(\"fairness\",color=\"red\",fontsize=14)\n",
    "\n",
    "\n",
    "\n",
    "# twin object for two different y-axis\n",
    "ax2=ax.twinx()\n",
    "ax2.plot(cval_adult, list(adult_fair.values()), marker = 'o')\n",
    "ax2.set_ylabel(\"accuracy\",color=\"blue\",fontsize=14)\n",
    "\n",
    "plt.title(\"Variation of accuracy and Fairness of models with varying C value on Adult dataset\")\n"
   ]
  },
  {
   "cell_type": "code",
   "execution_count": 50,
   "metadata": {
    "colab": {
     "base_uri": "https://localhost:8080/",
     "height": 549
    },
    "id": "nmWd3Ljo9Ew4",
    "outputId": "387482a8-c1bb-4559-c554-051da5e8a5a4"
   },
   "outputs": [
    {
     "name": "stdout",
     "output_type": "stream",
     "text": [
      "Maximum accuracy value on training set:  80.31 %\n",
      "Hyperparameter values to achieve maximum accuracy:  ['C=10_gamma=0.01']\n",
      "Minimum error value:  0.5221\n",
      "Hyperparameter values to achieve maximum fairness (i.e. Equal opportunity for both classes):  ['C=10_gamma=0.06210526315789474']\n"
     ]
    },
    {
     "data": {
      "text/plain": [
       "Text(0.5, 1.0, 'Variation of accuracy and Fairness of models with varying Gamma value on Adult dataset')"
      ]
     },
     "execution_count": 50,
     "metadata": {},
     "output_type": "execute_result"
    },
    {
     "data": {
      "image/png": "[encoded data removed]",
      "text/plain": [
       "<Figure size 720x504 with 2 Axes>"
      ]
     },
     "metadata": {
      "needs_background": "light"
     },
     "output_type": "display_data"
    }
   ],
   "source": [
    "c_val_a = [10]\n",
    "g_val_a = list(np.linspace(0.01, 1, 20))\n",
    "\n",
    "cvalsa1, gevala1, geacca1, gefaira1 = tune_hyperparameters(c_val_a, g_val_a, X_train_ad, y_train_ad)\n",
    "\n",
    "from matplotlib.pyplot import figure\n",
    "fig,ax = plt.subplots(figsize=(10,7))\n",
    "ax.plot(gevala1, list(gefaira1.values()), marker = 'o', color = 'r')\n",
    "ax.set_xlabel(\"Gamma\",fontsize=14)\n",
    "ax.set_ylabel(\"fairness\",color=\"red\",fontsize=14)\n",
    "\n",
    "\n",
    "# twin object for two different y-axis\n",
    "ax2=ax.twinx()\n",
    "ax2.plot(gevala1, list(geacca1.values()), marker = 'o')\n",
    "ax2.set_ylabel(\"accuracy\",color=\"blue\",fontsize=14)\n",
    "plt.title(\"Variation of accuracy and Fairness of models with varying Gamma value on Adult dataset\")\n"
   ]
  },
  {
   "cell_type": "code",
   "execution_count": 51,
   "metadata": {
    "colab": {
     "base_uri": "https://localhost:8080/"
    },
    "id": "Wohn8xYX6CGs",
    "outputId": "f75b66e2-1623-4024-8c40-7839b9fead6c"
   },
   "outputs": [
    {
     "name": "stdout",
     "output_type": "stream",
     "text": [
      "Maximum accuracy value on training set:  80.39 %\n",
      "Hyperparameter values to achieve maximum accuracy:  ['C=0.1_gamma=0.1']\n",
      "Minimum error value:  0.4188\n",
      "Hyperparameter values to achieve maximum fairness (i.e. Equal opportunity for both classes):  ['C=1_gamma=0.001']\n"
     ]
    }
   ],
   "source": [
    "Adult_C = [0.1, 1, 10]\n",
    "Adult_g = [0.001, 0.01, 0.1, 1]\n",
    "\n",
    "ac, ag, accu, afair = tune_hyperparameters(Adult_C, Adult_g, X_train_ad, y_train_ad)"
   ]
  },
  {
   "cell_type": "code",
   "execution_count": 52,
   "metadata": {
    "colab": {
     "base_uri": "https://localhost:8080/",
     "height": 426
    },
    "id": "PTinkisWT1uB",
    "outputId": "df935976-ae15-4f84-f59e-a89534bcabf4"
   },
   "outputs": [
    {
     "data": {
      "text/html": [
       "\n",
       "  <div id=\"df-35e84428-a9d8-42b8-bf6d-50c523401538\">\n",
       "    <div class=\"colab-df-container\">\n",
       "      <div>\n",
       "<style scoped>\n",
       "    .dataframe tbody tr th:only-of-type {\n",
       "        vertical-align: middle;\n",
       "    }\n",
       "\n",
       "    .dataframe tbody tr th {\n",
       "        vertical-align: top;\n",
       "    }\n",
       "\n",
       "    .dataframe thead th {\n",
       "        text-align: right;\n",
       "    }\n",
       "</style>\n",
       "<table border=\"1\" class=\"dataframe\">\n",
       "  <thead>\n",
       "    <tr style=\"text-align: right;\">\n",
       "      <th></th>\n",
       "      <th>Hyperparameters</th>\n",
       "      <th>Accuracy</th>\n",
       "      <th>Equality difference</th>\n",
       "      <th>Absolute difference</th>\n",
       "    </tr>\n",
       "  </thead>\n",
       "  <tbody>\n",
       "    <tr>\n",
       "      <th>2</th>\n",
       "      <td>C=0.1_gamma=0.1</td>\n",
       "      <td>0.803884</td>\n",
       "      <td>0.563458</td>\n",
       "      <td>0.563458</td>\n",
       "    </tr>\n",
       "    <tr>\n",
       "      <th>3</th>\n",
       "      <td>C=0.1_gamma=1</td>\n",
       "      <td>0.803212</td>\n",
       "      <td>0.552615</td>\n",
       "      <td>0.552615</td>\n",
       "    </tr>\n",
       "    <tr>\n",
       "      <th>9</th>\n",
       "      <td>C=10_gamma=0.01</td>\n",
       "      <td>0.803124</td>\n",
       "      <td>0.544307</td>\n",
       "      <td>0.544307</td>\n",
       "    </tr>\n",
       "    <tr>\n",
       "      <th>10</th>\n",
       "      <td>C=10_gamma=0.1</td>\n",
       "      <td>0.803036</td>\n",
       "      <td>0.523470</td>\n",
       "      <td>0.523470</td>\n",
       "    </tr>\n",
       "    <tr>\n",
       "      <th>7</th>\n",
       "      <td>C=1_gamma=1</td>\n",
       "      <td>0.803007</td>\n",
       "      <td>0.523753</td>\n",
       "      <td>0.523753</td>\n",
       "    </tr>\n",
       "    <tr>\n",
       "      <th>11</th>\n",
       "      <td>C=10_gamma=1</td>\n",
       "      <td>0.803007</td>\n",
       "      <td>0.523753</td>\n",
       "      <td>0.523753</td>\n",
       "    </tr>\n",
       "    <tr>\n",
       "      <th>6</th>\n",
       "      <td>C=1_gamma=0.1</td>\n",
       "      <td>0.802978</td>\n",
       "      <td>0.543151</td>\n",
       "      <td>0.543151</td>\n",
       "    </tr>\n",
       "    <tr>\n",
       "      <th>5</th>\n",
       "      <td>C=1_gamma=0.01</td>\n",
       "      <td>0.802978</td>\n",
       "      <td>0.542990</td>\n",
       "      <td>0.542990</td>\n",
       "    </tr>\n",
       "    <tr>\n",
       "      <th>1</th>\n",
       "      <td>C=0.1_gamma=0.01</td>\n",
       "      <td>0.790371</td>\n",
       "      <td>0.443852</td>\n",
       "      <td>0.443852</td>\n",
       "    </tr>\n",
       "    <tr>\n",
       "      <th>8</th>\n",
       "      <td>C=10_gamma=0.001</td>\n",
       "      <td>0.788938</td>\n",
       "      <td>0.430723</td>\n",
       "      <td>0.430723</td>\n",
       "    </tr>\n",
       "    <tr>\n",
       "      <th>4</th>\n",
       "      <td>C=1_gamma=0.001</td>\n",
       "      <td>0.786920</td>\n",
       "      <td>0.418753</td>\n",
       "      <td>0.418753</td>\n",
       "    </tr>\n",
       "    <tr>\n",
       "      <th>0</th>\n",
       "      <td>C=0.1_gamma=0.001</td>\n",
       "      <td>0.760596</td>\n",
       "      <td>1.000000</td>\n",
       "      <td>1.000000</td>\n",
       "    </tr>\n",
       "  </tbody>\n",
       "</table>\n",
       "</div>\n",
       "      <button class=\"colab-df-convert\" onclick=\"convertToInteractive('df-35e84428-a9d8-42b8-bf6d-50c523401538')\"\n",
       "              title=\"Convert this dataframe to an interactive table.\"\n",
       "              style=\"display:none;\">\n",
       "        \n",
       "  <svg xmlns=\"http://www.w3.org/2000/svg\" height=\"24px\"viewBox=\"0 0 24 24\"\n",
       "       width=\"24px\">\n",
       "    <path d=\"M0 0h24v24H0V0z\" fill=\"none\"/>\n",
       "    <path d=\"M18.56 5.44l.94 2.06.94-2.06 2.06-.94-2.06-.94-.94-2.06-.94 2.06-2.06.94zm-11 1L8.5 8.5l.94-2.06 2.06-.94-2.06-.94L8.5 2.5l-.94 2.06-2.06.94zm10 10l.94 2.06.94-2.06 2.06-.94-2.06-.94-.94-2.06-.94 2.06-2.06.94z\"/><path d=\"M17.41 7.96l-1.37-1.37c-.4-.4-.92-.59-1.43-.59-.52 0-1.04.2-1.43.59L10.3 9.45l-7.72 7.72c-.78.78-.78 2.05 0 2.83L4 21.41c.39.39.9.59 1.41.59.51 0 1.02-.2 1.41-.59l7.78-7.78 2.81-2.81c.8-.78.8-2.07 0-2.86zM5.41 20L4 18.59l7.72-7.72 1.47 1.35L5.41 20z\"/>\n",
       "  </svg>\n",
       "      </button>\n",
       "      \n",
       "  <style>\n",
       "    .colab-df-container {\n",
       "      display:flex;\n",
       "      flex-wrap:wrap;\n",
       "      gap: 12px;\n",
       "    }\n",
       "\n",
       "    .colab-df-convert {\n",
       "      background-color: #E8F0FE;\n",
       "      border: none;\n",
       "      border-radius: 50%;\n",
       "      cursor: pointer;\n",
       "      display: none;\n",
       "      fill: #1967D2;\n",
       "      height: 32px;\n",
       "      padding: 0 0 0 0;\n",
       "      width: 32px;\n",
       "    }\n",
       "\n",
       "    .colab-df-convert:hover {\n",
       "      background-color: #E2EBFA;\n",
       "      box-shadow: 0px 1px 2px rgba(60, 64, 67, 0.3), 0px 1px 3px 1px rgba(60, 64, 67, 0.15);\n",
       "      fill: #174EA6;\n",
       "    }\n",
       "\n",
       "    [theme=dark] .colab-df-convert {\n",
       "      background-color: #3B4455;\n",
       "      fill: #D2E3FC;\n",
       "    }\n",
       "\n",
       "    [theme=dark] .colab-df-convert:hover {\n",
       "      background-color: #434B5C;\n",
       "      box-shadow: 0px 1px 3px 1px rgba(0, 0, 0, 0.15);\n",
       "      filter: drop-shadow(0px 1px 2px rgba(0, 0, 0, 0.3));\n",
       "      fill: #FFFFFF;\n",
       "    }\n",
       "  </style>\n",
       "\n",
       "      <script>\n",
       "        const buttonEl =\n",
       "          document.querySelector('#df-35e84428-a9d8-42b8-bf6d-50c523401538 button.colab-df-convert');\n",
       "        buttonEl.style.display =\n",
       "          google.colab.kernel.accessAllowed ? 'block' : 'none';\n",
       "\n",
       "        async function convertToInteractive(key) {\n",
       "          const element = document.querySelector('#df-35e84428-a9d8-42b8-bf6d-50c523401538');\n",
       "          const dataTable =\n",
       "            await google.colab.kernel.invokeFunction('convertToInteractive',\n",
       "                                                     [key], {});\n",
       "          if (!dataTable) return;\n",
       "\n",
       "          const docLinkHtml = 'Like what you see? Visit the ' +\n",
       "            '<a target=\"_blank\" href=https://colab.research.google.com/notebooks/data_table.ipynb>data table notebook</a>'\n",
       "            + ' to learn more about interactive tables.';\n",
       "          element.innerHTML = '';\n",
       "          dataTable['output_type'] = 'display_data';\n",
       "          await google.colab.output.renderOutput(dataTable, element);\n",
       "          const docLink = document.createElement('div');\n",
       "          docLink.innerHTML = docLinkHtml;\n",
       "          element.appendChild(docLink);\n",
       "        }\n",
       "      </script>\n",
       "    </div>\n",
       "  </div>\n",
       "  "
      ],
      "text/plain": [
       "      Hyperparameters  Accuracy  Equality difference  Absolute difference\n",
       "2     C=0.1_gamma=0.1  0.803884             0.563458             0.563458\n",
       "3       C=0.1_gamma=1  0.803212             0.552615             0.552615\n",
       "9     C=10_gamma=0.01  0.803124             0.544307             0.544307\n",
       "10     C=10_gamma=0.1  0.803036             0.523470             0.523470\n",
       "7         C=1_gamma=1  0.803007             0.523753             0.523753\n",
       "11       C=10_gamma=1  0.803007             0.523753             0.523753\n",
       "6       C=1_gamma=0.1  0.802978             0.543151             0.543151\n",
       "5      C=1_gamma=0.01  0.802978             0.542990             0.542990\n",
       "1    C=0.1_gamma=0.01  0.790371             0.443852             0.443852\n",
       "8    C=10_gamma=0.001  0.788938             0.430723             0.430723\n",
       "4     C=1_gamma=0.001  0.786920             0.418753             0.418753\n",
       "0   C=0.1_gamma=0.001  0.760596             1.000000             1.000000"
      ]
     },
     "execution_count": 52,
     "metadata": {},
     "output_type": "execute_result"
    }
   ],
   "source": [
    "df_adult = pd.DataFrame(accu.items(), columns=['Hyperparameters', 'Accuracy'])\n",
    "\n",
    "df_adult[\"Equality difference\"] = df_adult[\"Hyperparameters\"].map(afair)\n",
    "df_adult[\"Absolute difference\"]=abs(df_adult[\"Equality difference\"])\n",
    "\n",
    "df_adult.sort_values(by=[\"Accuracy\"], ascending=False)\n"
   ]
  },
  {
   "cell_type": "markdown",
   "metadata": {
    "id": "gQ3zfGm1kjzi"
   },
   "source": []
  },
  {
   "cell_type": "code",
   "execution_count": 53,
   "metadata": {
    "colab": {
     "base_uri": "https://localhost:8080/"
    },
    "id": "3pmS-wHpT16I",
    "outputId": "83751b11-df8b-4c94-806f-67958059ced3"
   },
   "outputs": [
    {
     "name": "stdout",
     "output_type": "stream",
     "text": [
      "Accuracy on test:  80.38 %\n",
      "Equal opportunity difference:  -0.449\n",
      "Disparate Impact:  0.0\n",
      "[[10448   703]\n",
      " [ 2172  1330]]\n"
     ]
    }
   ],
   "source": [
    "simple_model(SVC(C=0.1, gamma=0.1, kernel='rbf'),  X_train_ad, X_test_ad, y_train_ad, y_test_ad, test_ad, unprivileged_adult, privileged_adult)"
   ]
  },
  {
   "cell_type": "code",
   "execution_count": 54,
   "metadata": {
    "colab": {
     "base_uri": "https://localhost:8080/"
    },
    "id": "upPhZM_Cy14m",
    "outputId": "38f59814-4b9a-44dd-80ed-2a95b24a46b1"
   },
   "outputs": [
    {
     "name": "stdout",
     "output_type": "stream",
     "text": [
      "Accuracy on test:  78.59 %\n",
      "Equal opportunity difference:  -0.022\n",
      "Disparate Impact:  0.689\n",
      "[[9867 1284]\n",
      " [1853 1649]]\n"
     ]
    }
   ],
   "source": [
    "simple_model(SVC(C=1, gamma=0.001, kernel='rbf'),  X_train_ad, X_test_ad, y_train_ad, y_test_ad, test_ad, unprivileged_adult, privileged_adult)"
   ]
  },
  {
   "cell_type": "markdown",
   "metadata": {
    "id": "EN_L1jYP0JVP"
   },
   "source": [
    "# Task 2: Reweighing"
   ]
  },
  {
   "cell_type": "markdown",
   "metadata": {
    "id": "KQraul-N0WFV"
   },
   "source": [
    "In the following section, we employ a technique called reweighing to lower sample variation and enhance model performance. Each input feature in the training phase of this method receives a set of weights based on how much it contributes to the outcome. The model's fairness measures are enhanced by using this technique. After training, we get new parameter combinations (C and gamma) for the most accurate and fair SVM models on the Bank and Adult dataset, respectively.\n",
    "\n",
    "\n",
    "First we will carry out reweighing on Bank dataset"
   ]
  },
  {
   "cell_type": "code",
   "execution_count": 55,
   "metadata": {
    "id": "JjeW1XcP0UP7"
   },
   "outputs": [],
   "source": [
    "RW_adult = Reweighing(unprivileged_groups=unprivileged_adult, privileged_groups=privileged_adult)\n",
    "RW_bank = Reweighing(unprivileged_groups=unprivileged_bank, privileged_groups=privileged_bank)\n",
    "\n",
    "train_ad = RW_adult.fit_transform(train_ad)\n",
    "train = RW_bank.fit_transform(train_bk)"
   ]
  },
  {
   "cell_type": "code",
   "execution_count": 56,
   "metadata": {
    "colab": {
     "base_uri": "https://localhost:8080/"
    },
    "id": "s_lRYLKs0-M5",
    "outputId": "fd4fcb2d-3dc5-4463-dc94-0b5762d7b517"
   },
   "outputs": [
    {
     "name": "stdout",
     "output_type": "stream",
     "text": [
      "Maximum accuracy value on training set:  89.89 %\n",
      "Hyperparameter values to achieve maximum accuracy:  ['C=1_gamma=0.01']\n",
      "Minimum error value:  0.5126\n",
      "Hyperparameter values to achieve maximum fairness (i.e. Equal opportunity for both classes):  ['C=10_gamma=0.01']\n"
     ]
    }
   ],
   "source": [
    "c_variable_rw = [0.01, 0.1, 1, 10]\n",
    "gamma_var_rw = [0.001, 0.01, 0.1, 1]\n",
    "\n",
    "\n",
    "\n",
    "rwa, rwb, rwc, rwd = tune_weighted_hyperparameters(c_variable_rw, gamma_var_rw, X_train_bk, y_train_bk, train.instance_weights)"
   ]
  },
  {
   "cell_type": "code",
   "execution_count": 57,
   "metadata": {
    "colab": {
     "base_uri": "https://localhost:8080/",
     "height": 551
    },
    "id": "pvWNaiF276ZK",
    "outputId": "d990ea4a-a151-4a29-f441-b78c93be705a"
   },
   "outputs": [
    {
     "data": {
      "text/html": [
       "\n",
       "  <div id=\"df-758036c0-052f-4b11-bc79-41150729b518\">\n",
       "    <div class=\"colab-df-container\">\n",
       "      <div>\n",
       "<style scoped>\n",
       "    .dataframe tbody tr th:only-of-type {\n",
       "        vertical-align: middle;\n",
       "    }\n",
       "\n",
       "    .dataframe tbody tr th {\n",
       "        vertical-align: top;\n",
       "    }\n",
       "\n",
       "    .dataframe thead th {\n",
       "        text-align: right;\n",
       "    }\n",
       "</style>\n",
       "<table border=\"1\" class=\"dataframe\">\n",
       "  <thead>\n",
       "    <tr style=\"text-align: right;\">\n",
       "      <th></th>\n",
       "      <th>Hyperparameters</th>\n",
       "      <th>Accuracy</th>\n",
       "      <th>Equality difference</th>\n",
       "      <th>Absolute difference</th>\n",
       "    </tr>\n",
       "  </thead>\n",
       "  <tbody>\n",
       "    <tr>\n",
       "      <th>13</th>\n",
       "      <td>C=10_gamma=0.01</td>\n",
       "      <td>0.898747</td>\n",
       "      <td>0.512563</td>\n",
       "      <td>0.512563</td>\n",
       "    </tr>\n",
       "    <tr>\n",
       "      <th>9</th>\n",
       "      <td>C=1_gamma=0.01</td>\n",
       "      <td>0.898934</td>\n",
       "      <td>0.599175</td>\n",
       "      <td>0.599175</td>\n",
       "    </tr>\n",
       "    <tr>\n",
       "      <th>12</th>\n",
       "      <td>C=10_gamma=0.001</td>\n",
       "      <td>0.898092</td>\n",
       "      <td>0.631680</td>\n",
       "      <td>0.631680</td>\n",
       "    </tr>\n",
       "    <tr>\n",
       "      <th>14</th>\n",
       "      <td>C=10_gamma=0.1</td>\n",
       "      <td>0.877561</td>\n",
       "      <td>0.637381</td>\n",
       "      <td>0.637381</td>\n",
       "    </tr>\n",
       "    <tr>\n",
       "      <th>8</th>\n",
       "      <td>C=1_gamma=0.001</td>\n",
       "      <td>0.889533</td>\n",
       "      <td>0.729019</td>\n",
       "      <td>0.729019</td>\n",
       "    </tr>\n",
       "    <tr>\n",
       "      <th>5</th>\n",
       "      <td>C=0.1_gamma=0.01</td>\n",
       "      <td>0.886914</td>\n",
       "      <td>0.775146</td>\n",
       "      <td>0.775146</td>\n",
       "    </tr>\n",
       "    <tr>\n",
       "      <th>4</th>\n",
       "      <td>C=0.1_gamma=0.001</td>\n",
       "      <td>0.887008</td>\n",
       "      <td>0.778641</td>\n",
       "      <td>0.778641</td>\n",
       "    </tr>\n",
       "    <tr>\n",
       "      <th>10</th>\n",
       "      <td>C=1_gamma=0.1</td>\n",
       "      <td>0.881302</td>\n",
       "      <td>0.801319</td>\n",
       "      <td>0.801319</td>\n",
       "    </tr>\n",
       "    <tr>\n",
       "      <th>15</th>\n",
       "      <td>C=10_gamma=1</td>\n",
       "      <td>0.865962</td>\n",
       "      <td>0.886668</td>\n",
       "      <td>0.886668</td>\n",
       "    </tr>\n",
       "    <tr>\n",
       "      <th>11</th>\n",
       "      <td>C=1_gamma=1</td>\n",
       "      <td>0.872510</td>\n",
       "      <td>0.952603</td>\n",
       "      <td>0.952603</td>\n",
       "    </tr>\n",
       "    <tr>\n",
       "      <th>0</th>\n",
       "      <td>C=0.01_gamma=0.001</td>\n",
       "      <td>0.873585</td>\n",
       "      <td>1.000000</td>\n",
       "      <td>1.000000</td>\n",
       "    </tr>\n",
       "    <tr>\n",
       "      <th>1</th>\n",
       "      <td>C=0.01_gamma=0.01</td>\n",
       "      <td>0.873585</td>\n",
       "      <td>1.000000</td>\n",
       "      <td>1.000000</td>\n",
       "    </tr>\n",
       "    <tr>\n",
       "      <th>2</th>\n",
       "      <td>C=0.01_gamma=0.1</td>\n",
       "      <td>0.873585</td>\n",
       "      <td>1.000000</td>\n",
       "      <td>1.000000</td>\n",
       "    </tr>\n",
       "    <tr>\n",
       "      <th>3</th>\n",
       "      <td>C=0.01_gamma=1</td>\n",
       "      <td>0.873585</td>\n",
       "      <td>1.000000</td>\n",
       "      <td>1.000000</td>\n",
       "    </tr>\n",
       "    <tr>\n",
       "      <th>6</th>\n",
       "      <td>C=0.1_gamma=0.1</td>\n",
       "      <td>0.873585</td>\n",
       "      <td>1.000000</td>\n",
       "      <td>1.000000</td>\n",
       "    </tr>\n",
       "    <tr>\n",
       "      <th>7</th>\n",
       "      <td>C=0.1_gamma=1</td>\n",
       "      <td>0.873585</td>\n",
       "      <td>1.000000</td>\n",
       "      <td>1.000000</td>\n",
       "    </tr>\n",
       "  </tbody>\n",
       "</table>\n",
       "</div>\n",
       "      <button class=\"colab-df-convert\" onclick=\"convertToInteractive('df-758036c0-052f-4b11-bc79-41150729b518')\"\n",
       "              title=\"Convert this dataframe to an interactive table.\"\n",
       "              style=\"display:none;\">\n",
       "        \n",
       "  <svg xmlns=\"http://www.w3.org/2000/svg\" height=\"24px\"viewBox=\"0 0 24 24\"\n",
       "       width=\"24px\">\n",
       "    <path d=\"M0 0h24v24H0V0z\" fill=\"none\"/>\n",
       "    <path d=\"M18.56 5.44l.94 2.06.94-2.06 2.06-.94-2.06-.94-.94-2.06-.94 2.06-2.06.94zm-11 1L8.5 8.5l.94-2.06 2.06-.94-2.06-.94L8.5 2.5l-.94 2.06-2.06.94zm10 10l.94 2.06.94-2.06 2.06-.94-2.06-.94-.94-2.06-.94 2.06-2.06.94z\"/><path d=\"M17.41 7.96l-1.37-1.37c-.4-.4-.92-.59-1.43-.59-.52 0-1.04.2-1.43.59L10.3 9.45l-7.72 7.72c-.78.78-.78 2.05 0 2.83L4 21.41c.39.39.9.59 1.41.59.51 0 1.02-.2 1.41-.59l7.78-7.78 2.81-2.81c.8-.78.8-2.07 0-2.86zM5.41 20L4 18.59l7.72-7.72 1.47 1.35L5.41 20z\"/>\n",
       "  </svg>\n",
       "      </button>\n",
       "      \n",
       "  <style>\n",
       "    .colab-df-container {\n",
       "      display:flex;\n",
       "      flex-wrap:wrap;\n",
       "      gap: 12px;\n",
       "    }\n",
       "\n",
       "    .colab-df-convert {\n",
       "      background-color: #E8F0FE;\n",
       "      border: none;\n",
       "      border-radius: 50%;\n",
       "      cursor: pointer;\n",
       "      display: none;\n",
       "      fill: #1967D2;\n",
       "      height: 32px;\n",
       "      padding: 0 0 0 0;\n",
       "      width: 32px;\n",
       "    }\n",
       "\n",
       "    .colab-df-convert:hover {\n",
       "      background-color: #E2EBFA;\n",
       "      box-shadow: 0px 1px 2px rgba(60, 64, 67, 0.3), 0px 1px 3px 1px rgba(60, 64, 67, 0.15);\n",
       "      fill: #174EA6;\n",
       "    }\n",
       "\n",
       "    [theme=dark] .colab-df-convert {\n",
       "      background-color: #3B4455;\n",
       "      fill: #D2E3FC;\n",
       "    }\n",
       "\n",
       "    [theme=dark] .colab-df-convert:hover {\n",
       "      background-color: #434B5C;\n",
       "      box-shadow: 0px 1px 3px 1px rgba(0, 0, 0, 0.15);\n",
       "      filter: drop-shadow(0px 1px 2px rgba(0, 0, 0, 0.3));\n",
       "      fill: #FFFFFF;\n",
       "    }\n",
       "  </style>\n",
       "\n",
       "      <script>\n",
       "        const buttonEl =\n",
       "          document.querySelector('#df-758036c0-052f-4b11-bc79-41150729b518 button.colab-df-convert');\n",
       "        buttonEl.style.display =\n",
       "          google.colab.kernel.accessAllowed ? 'block' : 'none';\n",
       "\n",
       "        async function convertToInteractive(key) {\n",
       "          const element = document.querySelector('#df-758036c0-052f-4b11-bc79-41150729b518');\n",
       "          const dataTable =\n",
       "            await google.colab.kernel.invokeFunction('convertToInteractive',\n",
       "                                                     [key], {});\n",
       "          if (!dataTable) return;\n",
       "\n",
       "          const docLinkHtml = 'Like what you see? Visit the ' +\n",
       "            '<a target=\"_blank\" href=https://colab.research.google.com/notebooks/data_table.ipynb>data table notebook</a>'\n",
       "            + ' to learn more about interactive tables.';\n",
       "          element.innerHTML = '';\n",
       "          dataTable['output_type'] = 'display_data';\n",
       "          await google.colab.output.renderOutput(dataTable, element);\n",
       "          const docLink = document.createElement('div');\n",
       "          docLink.innerHTML = docLinkHtml;\n",
       "          element.appendChild(docLink);\n",
       "        }\n",
       "      </script>\n",
       "    </div>\n",
       "  </div>\n",
       "  "
      ],
      "text/plain": [
       "       Hyperparameters  Accuracy  Equality difference  Absolute difference\n",
       "13     C=10_gamma=0.01  0.898747             0.512563             0.512563\n",
       "9       C=1_gamma=0.01  0.898934             0.599175             0.599175\n",
       "12    C=10_gamma=0.001  0.898092             0.631680             0.631680\n",
       "14      C=10_gamma=0.1  0.877561             0.637381             0.637381\n",
       "8      C=1_gamma=0.001  0.889533             0.729019             0.729019\n",
       "5     C=0.1_gamma=0.01  0.886914             0.775146             0.775146\n",
       "4    C=0.1_gamma=0.001  0.887008             0.778641             0.778641\n",
       "10       C=1_gamma=0.1  0.881302             0.801319             0.801319\n",
       "15        C=10_gamma=1  0.865962             0.886668             0.886668\n",
       "11         C=1_gamma=1  0.872510             0.952603             0.952603\n",
       "0   C=0.01_gamma=0.001  0.873585             1.000000             1.000000\n",
       "1    C=0.01_gamma=0.01  0.873585             1.000000             1.000000\n",
       "2     C=0.01_gamma=0.1  0.873585             1.000000             1.000000\n",
       "3       C=0.01_gamma=1  0.873585             1.000000             1.000000\n",
       "6      C=0.1_gamma=0.1  0.873585             1.000000             1.000000\n",
       "7        C=0.1_gamma=1  0.873585             1.000000             1.000000"
      ]
     },
     "execution_count": 57,
     "metadata": {},
     "output_type": "execute_result"
    }
   ],
   "source": [
    "df_bank_rw = pd.DataFrame(rwc.items(), columns=['Hyperparameters', 'Accuracy'])\n",
    "\n",
    "df_bank_rw[\"Equality difference\"] = df_bank_rw[\"Hyperparameters\"].map(rwd)\n",
    "df_bank_rw[\"Absolute difference\"]=abs(df_bank_rw[\"Equality difference\"])\n",
    "df_bank_rw.sort_values(by=[\"Absolute difference\"])\n"
   ]
  },
  {
   "cell_type": "code",
   "execution_count": 58,
   "metadata": {
    "colab": {
     "base_uri": "https://localhost:8080/"
    },
    "id": "FvwMcT_f76t7",
    "outputId": "ba299206-f5ba-4054-f15a-0ff4c2fc94fe"
   },
   "outputs": [
    {
     "name": "stdout",
     "output_type": "stream",
     "text": [
      "Accuracy on test:  89.43 %\n",
      "Equal opportunity difference:  -0.209\n",
      "Disparate Impact:  0.611\n",
      "[[7777  223]\n",
      " [ 746  419]]\n"
     ]
    }
   ],
   "source": [
    "reweighted_model(SVC(C=1, gamma=0.01, kernel='rbf'), X_train_bk, X_test_bk, y_train_bk, y_test_bk, test_bk, unprivileged_bank, privileged_bank, train.instance_weights)"
   ]
  },
  {
   "cell_type": "code",
   "execution_count": 59,
   "metadata": {
    "colab": {
     "base_uri": "https://localhost:8080/"
    },
    "id": "s15E66nnYaGu",
    "outputId": "ff7c132f-a0b5-441a-8a36-a1364ad36223"
   },
   "outputs": [
    {
     "name": "stdout",
     "output_type": "stream",
     "text": [
      "Accuracy on test:  89.21 %\n",
      "Equal opportunity difference:  -0.087\n",
      "Disparate Impact:  1.296\n",
      "[[7663  337]\n",
      " [ 652  513]]\n"
     ]
    }
   ],
   "source": [
    "reweighted_model(SVC(C=10, gamma=0.01, kernel='rbf'), X_train_bk, X_test_bk, y_train_bk, y_test_bk, test_bk, unprivileged_bank, privileged_bank, train.instance_weights)"
   ]
  },
  {
   "cell_type": "code",
   "execution_count": 60,
   "metadata": {
    "colab": {
     "base_uri": "https://localhost:8080/"
    },
    "id": "PPf9YmzoYglG",
    "outputId": "2158c594-6951-474c-c546-d6940c4b89dc"
   },
   "outputs": [
    {
     "name": "stdout",
     "output_type": "stream",
     "text": [
      "Accuracy on test:  89.6 %\n",
      "Equal opportunity difference:  -0.144\n",
      "Disparate Impact:  0.941\n",
      "[[7720  280]\n",
      " [ 673  492]]\n"
     ]
    }
   ],
   "source": [
    "reweighted_model(SVC(C=100, gamma=0.001, kernel='rbf'), X_train_bk, X_test_bk, y_train_bk, y_test_bk, test_bk, unprivileged_bank, privileged_bank, train.instance_weights)"
   ]
  },
  {
   "cell_type": "markdown",
   "metadata": {
    "id": "FsV49RlBa4bO"
   },
   "source": [
    "Now we will perfrom the above evaluation on Adult dataset"
   ]
  },
  {
   "cell_type": "code",
   "execution_count": 61,
   "metadata": {
    "colab": {
     "base_uri": "https://localhost:8080/"
    },
    "id": "1FceZrZ0Y8oE",
    "outputId": "2d29684a-33de-40a8-aca6-c63f9994ac10"
   },
   "outputs": [
    {
     "name": "stdout",
     "output_type": "stream",
     "text": [
      "Maximum accuracy value on training set:  79.06 %\n",
      "Hyperparameter values to achieve maximum accuracy:  ['C=0.1_gamma=1']\n",
      "Minimum error value:  0.4188\n",
      "Hyperparameter values to achieve maximum fairness (i.e. Equal opportunity for both classes):  ['C=1_gamma=0.001']\n"
     ]
    }
   ],
   "source": [
    "Adult_C_variable = [0.1, 1, 10,100]\n",
    "Adult_gamma_var = [0.001, 0.01, 0.1, 1]\n",
    "\n",
    "ac, ag, accuracy, fairness = tune_weighted_hyperparameters(Adult_C_variable, Adult_gamma_var, X_train_ad, y_train_ad, train_ad.instance_weights)"
   ]
  },
  {
   "cell_type": "code",
   "execution_count": 62,
   "metadata": {
    "colab": {
     "base_uri": "https://localhost:8080/",
     "height": 551
    },
    "id": "vq6jUBQZbdDU",
    "outputId": "57a182a7-48af-4fb2-9921-a5cd14ea9334"
   },
   "outputs": [
    {
     "data": {
      "text/html": [
       "\n",
       "  <div id=\"df-d487b1c3-103b-4583-bbbb-d410e5ac6dee\">\n",
       "    <div class=\"colab-df-container\">\n",
       "      <div>\n",
       "<style scoped>\n",
       "    .dataframe tbody tr th:only-of-type {\n",
       "        vertical-align: middle;\n",
       "    }\n",
       "\n",
       "    .dataframe tbody tr th {\n",
       "        vertical-align: top;\n",
       "    }\n",
       "\n",
       "    .dataframe thead th {\n",
       "        text-align: right;\n",
       "    }\n",
       "</style>\n",
       "<table border=\"1\" class=\"dataframe\">\n",
       "  <thead>\n",
       "    <tr style=\"text-align: right;\">\n",
       "      <th></th>\n",
       "      <th>Hyperparameters</th>\n",
       "      <th>Accuracy</th>\n",
       "      <th>Equality difference</th>\n",
       "      <th>Absolute difference</th>\n",
       "    </tr>\n",
       "  </thead>\n",
       "  <tbody>\n",
       "    <tr>\n",
       "      <th>4</th>\n",
       "      <td>C=1_gamma=0.001</td>\n",
       "      <td>0.786920</td>\n",
       "      <td>0.418753</td>\n",
       "      <td>0.418753</td>\n",
       "    </tr>\n",
       "    <tr>\n",
       "      <th>8</th>\n",
       "      <td>C=10_gamma=0.001</td>\n",
       "      <td>0.786949</td>\n",
       "      <td>0.418792</td>\n",
       "      <td>0.418792</td>\n",
       "    </tr>\n",
       "    <tr>\n",
       "      <th>1</th>\n",
       "      <td>C=0.1_gamma=0.01</td>\n",
       "      <td>0.787914</td>\n",
       "      <td>0.430020</td>\n",
       "      <td>0.430020</td>\n",
       "    </tr>\n",
       "    <tr>\n",
       "      <th>12</th>\n",
       "      <td>C=100_gamma=0.001</td>\n",
       "      <td>0.787973</td>\n",
       "      <td>0.430097</td>\n",
       "      <td>0.430097</td>\n",
       "    </tr>\n",
       "    <tr>\n",
       "      <th>5</th>\n",
       "      <td>C=1_gamma=0.01</td>\n",
       "      <td>0.787973</td>\n",
       "      <td>0.430739</td>\n",
       "      <td>0.430739</td>\n",
       "    </tr>\n",
       "    <tr>\n",
       "      <th>10</th>\n",
       "      <td>C=10_gamma=0.1</td>\n",
       "      <td>0.788558</td>\n",
       "      <td>0.458655</td>\n",
       "      <td>0.458655</td>\n",
       "    </tr>\n",
       "    <tr>\n",
       "      <th>11</th>\n",
       "      <td>C=10_gamma=1</td>\n",
       "      <td>0.788558</td>\n",
       "      <td>0.458655</td>\n",
       "      <td>0.458655</td>\n",
       "    </tr>\n",
       "    <tr>\n",
       "      <th>14</th>\n",
       "      <td>C=100_gamma=0.1</td>\n",
       "      <td>0.788558</td>\n",
       "      <td>0.458655</td>\n",
       "      <td>0.458655</td>\n",
       "    </tr>\n",
       "    <tr>\n",
       "      <th>15</th>\n",
       "      <td>C=100_gamma=1</td>\n",
       "      <td>0.788558</td>\n",
       "      <td>0.458655</td>\n",
       "      <td>0.458655</td>\n",
       "    </tr>\n",
       "    <tr>\n",
       "      <th>13</th>\n",
       "      <td>C=100_gamma=0.01</td>\n",
       "      <td>0.790225</td>\n",
       "      <td>0.458919</td>\n",
       "      <td>0.458919</td>\n",
       "    </tr>\n",
       "    <tr>\n",
       "      <th>7</th>\n",
       "      <td>C=1_gamma=1</td>\n",
       "      <td>0.789464</td>\n",
       "      <td>0.461293</td>\n",
       "      <td>0.461293</td>\n",
       "    </tr>\n",
       "    <tr>\n",
       "      <th>6</th>\n",
       "      <td>C=1_gamma=0.1</td>\n",
       "      <td>0.789786</td>\n",
       "      <td>0.462198</td>\n",
       "      <td>0.462198</td>\n",
       "    </tr>\n",
       "    <tr>\n",
       "      <th>9</th>\n",
       "      <td>C=10_gamma=0.01</td>\n",
       "      <td>0.789757</td>\n",
       "      <td>0.465372</td>\n",
       "      <td>0.465372</td>\n",
       "    </tr>\n",
       "    <tr>\n",
       "      <th>2</th>\n",
       "      <td>C=0.1_gamma=0.1</td>\n",
       "      <td>0.789903</td>\n",
       "      <td>0.472793</td>\n",
       "      <td>0.472793</td>\n",
       "    </tr>\n",
       "    <tr>\n",
       "      <th>3</th>\n",
       "      <td>C=0.1_gamma=1</td>\n",
       "      <td>0.790605</td>\n",
       "      <td>0.481586</td>\n",
       "      <td>0.481586</td>\n",
       "    </tr>\n",
       "    <tr>\n",
       "      <th>0</th>\n",
       "      <td>C=0.1_gamma=0.001</td>\n",
       "      <td>0.760596</td>\n",
       "      <td>1.000000</td>\n",
       "      <td>1.000000</td>\n",
       "    </tr>\n",
       "  </tbody>\n",
       "</table>\n",
       "</div>\n",
       "      <button class=\"colab-df-convert\" onclick=\"convertToInteractive('df-d487b1c3-103b-4583-bbbb-d410e5ac6dee')\"\n",
       "              title=\"Convert this dataframe to an interactive table.\"\n",
       "              style=\"display:none;\">\n",
       "        \n",
       "  <svg xmlns=\"http://www.w3.org/2000/svg\" height=\"24px\"viewBox=\"0 0 24 24\"\n",
       "       width=\"24px\">\n",
       "    <path d=\"M0 0h24v24H0V0z\" fill=\"none\"/>\n",
       "    <path d=\"M18.56 5.44l.94 2.06.94-2.06 2.06-.94-2.06-.94-.94-2.06-.94 2.06-2.06.94zm-11 1L8.5 8.5l.94-2.06 2.06-.94-2.06-.94L8.5 2.5l-.94 2.06-2.06.94zm10 10l.94 2.06.94-2.06 2.06-.94-2.06-.94-.94-2.06-.94 2.06-2.06.94z\"/><path d=\"M17.41 7.96l-1.37-1.37c-.4-.4-.92-.59-1.43-.59-.52 0-1.04.2-1.43.59L10.3 9.45l-7.72 7.72c-.78.78-.78 2.05 0 2.83L4 21.41c.39.39.9.59 1.41.59.51 0 1.02-.2 1.41-.59l7.78-7.78 2.81-2.81c.8-.78.8-2.07 0-2.86zM5.41 20L4 18.59l7.72-7.72 1.47 1.35L5.41 20z\"/>\n",
       "  </svg>\n",
       "      </button>\n",
       "      \n",
       "  <style>\n",
       "    .colab-df-container {\n",
       "      display:flex;\n",
       "      flex-wrap:wrap;\n",
       "      gap: 12px;\n",
       "    }\n",
       "\n",
       "    .colab-df-convert {\n",
       "      background-color: #E8F0FE;\n",
       "      border: none;\n",
       "      border-radius: 50%;\n",
       "      cursor: pointer;\n",
       "      display: none;\n",
       "      fill: #1967D2;\n",
       "      height: 32px;\n",
       "      padding: 0 0 0 0;\n",
       "      width: 32px;\n",
       "    }\n",
       "\n",
       "    .colab-df-convert:hover {\n",
       "      background-color: #E2EBFA;\n",
       "      box-shadow: 0px 1px 2px rgba(60, 64, 67, 0.3), 0px 1px 3px 1px rgba(60, 64, 67, 0.15);\n",
       "      fill: #174EA6;\n",
       "    }\n",
       "\n",
       "    [theme=dark] .colab-df-convert {\n",
       "      background-color: #3B4455;\n",
       "      fill: #D2E3FC;\n",
       "    }\n",
       "\n",
       "    [theme=dark] .colab-df-convert:hover {\n",
       "      background-color: #434B5C;\n",
       "      box-shadow: 0px 1px 3px 1px rgba(0, 0, 0, 0.15);\n",
       "      filter: drop-shadow(0px 1px 2px rgba(0, 0, 0, 0.3));\n",
       "      fill: #FFFFFF;\n",
       "    }\n",
       "  </style>\n",
       "\n",
       "      <script>\n",
       "        const buttonEl =\n",
       "          document.querySelector('#df-d487b1c3-103b-4583-bbbb-d410e5ac6dee button.colab-df-convert');\n",
       "        buttonEl.style.display =\n",
       "          google.colab.kernel.accessAllowed ? 'block' : 'none';\n",
       "\n",
       "        async function convertToInteractive(key) {\n",
       "          const element = document.querySelector('#df-d487b1c3-103b-4583-bbbb-d410e5ac6dee');\n",
       "          const dataTable =\n",
       "            await google.colab.kernel.invokeFunction('convertToInteractive',\n",
       "                                                     [key], {});\n",
       "          if (!dataTable) return;\n",
       "\n",
       "          const docLinkHtml = 'Like what you see? Visit the ' +\n",
       "            '<a target=\"_blank\" href=https://colab.research.google.com/notebooks/data_table.ipynb>data table notebook</a>'\n",
       "            + ' to learn more about interactive tables.';\n",
       "          element.innerHTML = '';\n",
       "          dataTable['output_type'] = 'display_data';\n",
       "          await google.colab.output.renderOutput(dataTable, element);\n",
       "          const docLink = document.createElement('div');\n",
       "          docLink.innerHTML = docLinkHtml;\n",
       "          element.appendChild(docLink);\n",
       "        }\n",
       "      </script>\n",
       "    </div>\n",
       "  </div>\n",
       "  "
      ],
      "text/plain": [
       "      Hyperparameters  Accuracy  Equality difference  Absolute difference\n",
       "4     C=1_gamma=0.001  0.786920             0.418753             0.418753\n",
       "8    C=10_gamma=0.001  0.786949             0.418792             0.418792\n",
       "1    C=0.1_gamma=0.01  0.787914             0.430020             0.430020\n",
       "12  C=100_gamma=0.001  0.787973             0.430097             0.430097\n",
       "5      C=1_gamma=0.01  0.787973             0.430739             0.430739\n",
       "10     C=10_gamma=0.1  0.788558             0.458655             0.458655\n",
       "11       C=10_gamma=1  0.788558             0.458655             0.458655\n",
       "14    C=100_gamma=0.1  0.788558             0.458655             0.458655\n",
       "15      C=100_gamma=1  0.788558             0.458655             0.458655\n",
       "13   C=100_gamma=0.01  0.790225             0.458919             0.458919\n",
       "7         C=1_gamma=1  0.789464             0.461293             0.461293\n",
       "6       C=1_gamma=0.1  0.789786             0.462198             0.462198\n",
       "9     C=10_gamma=0.01  0.789757             0.465372             0.465372\n",
       "2     C=0.1_gamma=0.1  0.789903             0.472793             0.472793\n",
       "3       C=0.1_gamma=1  0.790605             0.481586             0.481586\n",
       "0   C=0.1_gamma=0.001  0.760596             1.000000             1.000000"
      ]
     },
     "execution_count": 62,
     "metadata": {},
     "output_type": "execute_result"
    }
   ],
   "source": [
    "df_adult_rw = pd.DataFrame(accuracy.items(), columns=['Hyperparameters', 'Accuracy'])\n",
    "\n",
    "df_adult_rw[\"Equality difference\"] = df_adult_rw[\"Hyperparameters\"].map(fairness)\n",
    "df_adult_rw[\"Absolute difference\"]=abs(df_adult_rw[\"Equality difference\"])\n",
    "df_adult_rw.sort_values(by=[\"Absolute difference\"])\n"
   ]
  },
  {
   "cell_type": "code",
   "execution_count": 63,
   "metadata": {
    "colab": {
     "base_uri": "https://localhost:8080/"
    },
    "id": "z1_MtIWNrOh7",
    "outputId": "e80965d7-2aee-414b-d003-89049110a389"
   },
   "outputs": [
    {
     "name": "stdout",
     "output_type": "stream",
     "text": [
      "Accuracy on test:  78.68 %\n",
      "Equal opportunity difference:  -0.118\n",
      "Disparate Impact:  0.454\n",
      "[[10664   487]\n",
      " [ 2637   865]]\n"
     ]
    }
   ],
   "source": [
    "reweighted_model(SVC(C=0.01, gamma=1, kernel='rbf'), X_train_ad, X_test_ad, y_train_ad, y_test_ad, test_ad, unprivileged_adult, privileged_adult, train_ad.instance_weights)"
   ]
  },
  {
   "cell_type": "code",
   "execution_count": 64,
   "metadata": {
    "colab": {
     "base_uri": "https://localhost:8080/"
    },
    "id": "1yCUQVA1r34v",
    "outputId": "6d85a820-0fc9-4c59-d13f-983996e28576"
   },
   "outputs": [
    {
     "name": "stdout",
     "output_type": "stream",
     "text": [
      "Accuracy on test:  78.59 %\n",
      "Equal opportunity difference:  -0.022\n",
      "Disparate Impact:  0.689\n",
      "[[9867 1284]\n",
      " [1853 1649]]\n"
     ]
    }
   ],
   "source": [
    "reweighted_model(SVC(C=1, gamma=0.001, kernel='rbf'), X_train_ad, X_test_ad, y_train_ad, y_test_ad, test_ad, unprivileged_adult, privileged_adult, train_ad.instance_weights)"
   ]
  },
  {
   "cell_type": "markdown",
   "metadata": {
    "id": "9KN10GDhs1Cb"
   },
   "source": [
    "As a result, we can observe that the equal opportunity difference decreased for both the most accurate model and the overall model. The variance was reduced when the samples were weighted during training. The accuracy value decreased slightly but remains around the same as previously."
   ]
  },
  {
   "cell_type": "markdown",
   "metadata": {
    "id": "gav-klgIs9dC"
   },
   "source": [
    "# **TASK 3 -  Most Optimal Model**"
   ]
  },
  {
   "cell_type": "markdown",
   "metadata": {
    "id": "zxj0SBBERcJ4"
   },
   "source": [
    "Here is a simple rating system for the models that were previously developed. We must comprehend a model's requirements in order to determine the parameters that will work best for it. Whether it is tilted more in favour of fairness or accuracy.\n",
    "\n",
    "The combination with the lowest accuracy is given a score of 1, and the one with the highest accuracy is given a score of 10, according to the tables created after hyperparameter tuning and training the models. The remaining models are given a score between 1 and 10 depending on their accuracy, with the range between the highest and lowest accuracy divided into 10 equal parts. The fairness metric use the same concept, but the highest score is given to the least TPR difference. At the end we just add the accuracy and fairness scores to have a rough idea about where each model stands."
   ]
  },
  {
   "cell_type": "code",
   "execution_count": 65,
   "metadata": {
    "id": "H8Wy1C61s6Ef"
   },
   "outputs": [],
   "source": [
    "def optimal_selection(testdf):\n",
    "\n",
    "  testdf[\"Accuracy\"] = round(testdf[\"Accuracy\"]*100, 2)\n",
    "  testdf[\"Equality difference\"] = round(testdf[\"Equality difference\"], 3)\n",
    "  testdf[\"Absolute difference\"] = round(testdf[\"Absolute difference\"], 3)\n",
    "\n",
    "  testdf[\"Accuracy score\"] = testdf[\"Accuracy\"]*0\n",
    "  testdf[\"Fairness score\"] = testdf[\"Accuracy\"]*0\n",
    "  testdf\n",
    "\n",
    "\n",
    "  min = testdf[\"Accuracy\"].min()\n",
    "  max = testdf[\"Accuracy\"].max()\n",
    "  step = (max-min)/10\n",
    "\n",
    "  for av in range(len(testdf[\"Accuracy\"])):\n",
    "    \n",
    "    if testdf[\"Accuracy\"][av]>=min and testdf[\"Accuracy\"][av]<min+step:\n",
    "      testdf[\"Accuracy score\"][av]=1\n",
    "    elif testdf[\"Accuracy\"][av]>=min+step and testdf[\"Accuracy\"][av]<min+(step*2):\n",
    "      testdf[\"Accuracy score\"][av]=2\n",
    "    elif testdf[\"Accuracy\"][av]>=min+(step*2) and testdf[\"Accuracy\"][av]<min+(step*3):\n",
    "      testdf[\"Accuracy score\"][av]=3\n",
    "    elif testdf[\"Accuracy\"][av]>=min+(step*3) and testdf[\"Accuracy\"][av]<min+(step*4):\n",
    "      testdf[\"Accuracy score\"][av]=4\n",
    "    elif testdf[\"Accuracy\"][av]>=min+(step*4) and testdf[\"Accuracy\"][av]<min+(step*5):\n",
    "      testdf[\"Accuracy score\"][av]=5\n",
    "    elif testdf[\"Accuracy\"][av]>=min+(step*5) and testdf[\"Accuracy\"][av]<min+(step*6):\n",
    "      testdf[\"Accuracy score\"][av]=6\n",
    "    elif testdf[\"Accuracy\"][av]>=min+(step*6) and testdf[\"Accuracy\"][av]<min+(step*7):\n",
    "      testdf[\"Accuracy score\"][av]=7\n",
    "    elif testdf[\"Accuracy\"][av]>=min+(step*7) and testdf[\"Accuracy\"][av]<min+(step*8):\n",
    "      testdf[\"Accuracy score\"][av]=8\n",
    "    elif testdf[\"Accuracy\"][av]>=min+(step*8) and testdf[\"Accuracy\"][av]<min+(step*9):\n",
    "      testdf[\"Accuracy score\"][av]=9\n",
    "    elif testdf[\"Accuracy\"][av]>=min+(step*9):\n",
    "      testdf[\"Accuracy score\"][av]=10\n",
    "\n",
    "\n",
    "\n",
    "  low = testdf[\"Absolute difference\"].min()\n",
    "  high = testdf[\"Absolute difference\"].max()\n",
    "  gap = (high-low)/10\n",
    "\n",
    "\n",
    "  for fv in range(len(testdf[\"Absolute difference\"])):\n",
    "  \n",
    "    if testdf[\"Absolute difference\"][fv]>=low and testdf[\"Absolute difference\"][fv]<low+gap:\n",
    "      testdf[\"Fairness score\"][fv]=10\n",
    "    elif testdf[\"Absolute difference\"][fv]>=low+gap and testdf[\"Absolute difference\"][fv]<low+(gap*2):\n",
    "      testdf[\"Fairness score\"][fv]=9\n",
    "    elif testdf[\"Absolute difference\"][fv]>=low+(gap*2) and testdf[\"Absolute difference\"][fv]<low+(gap*3):\n",
    "      testdf[\"Fairness score\"][fv]=8\n",
    "    elif testdf[\"Absolute difference\"][fv]>=low+(gap*3) and testdf[\"Absolute difference\"][fv]<low+(gap*4):\n",
    "      testdf[\"Fairness score\"][fv]=7\n",
    "    elif testdf[\"Absolute difference\"][fv]>=low+(gap*4) and testdf[\"Absolute difference\"][fv]<low+(gap*5):\n",
    "      testdf[\"Fairness score\"][fv]=6\n",
    "    elif testdf[\"Absolute difference\"][fv]>=low+(gap*5) and testdf[\"Absolute difference\"][fv]<low+(gap*6):\n",
    "      testdf[\"Fairness score\"][fv]=5\n",
    "    elif testdf[\"Absolute difference\"][fv]>=low+(gap*6) and testdf[\"Absolute difference\"][fv]<low+(gap*7):\n",
    "      testdf[\"Fairness score\"][fv]=4\n",
    "    elif testdf[\"Absolute difference\"][fv]>=low+(gap*7) and testdf[\"Absolute difference\"][fv]<low+(gap*8):\n",
    "      testdf[\"Fairness score\"][fv]=3\n",
    "    elif testdf[\"Absolute difference\"][fv]>=low+(gap*8) and testdf[\"Absolute difference\"][fv]<low+(gap*9):\n",
    "      testdf[\"Fairness score\"][fv]=2\n",
    "    elif testdf[\"Absolute difference\"][fv]>=low+(gap*9):\n",
    "      testdf[\"Fairness score\"][fv]=1\n",
    "\n",
    "\n",
    "  testdf[\"Total_score\"] = testdf[\"Accuracy score\"]+testdf[\"Fairness score\"]\n",
    "  testdf = testdf.sort_values(by=[\"Total_score\"], ascending=False)\n",
    "    \n",
    "    \n",
    "  return testdf"
   ]
  },
  {
   "cell_type": "code",
   "execution_count": null,
   "metadata": {
    "id": "veIUDqoBtKoT"
   },
   "outputs": [],
   "source": [
    "nw_bank = optimal_selection(df_bank)\n",
    "rewt_bank = optimal_selection(df_bank_rw)\n"
   ]
  },
  {
   "cell_type": "code",
   "execution_count": 68,
   "metadata": {
    "colab": {
     "base_uri": "https://localhost:8080/",
     "height": 551
    },
    "id": "oIbFxwGMtNxd",
    "outputId": "74f987d7-05e3-4545-bb2d-35b73b7b5b59"
   },
   "outputs": [
    {
     "data": {
      "text/html": [
       "\n",
       "  <div id=\"df-cd7b42d9-f61e-4b69-ab01-f08380bd94d0\">\n",
       "    <div class=\"colab-df-container\">\n",
       "      <div>\n",
       "<style scoped>\n",
       "    .dataframe tbody tr th:only-of-type {\n",
       "        vertical-align: middle;\n",
       "    }\n",
       "\n",
       "    .dataframe tbody tr th {\n",
       "        vertical-align: top;\n",
       "    }\n",
       "\n",
       "    .dataframe thead th {\n",
       "        text-align: right;\n",
       "    }\n",
       "</style>\n",
       "<table border=\"1\" class=\"dataframe\">\n",
       "  <thead>\n",
       "    <tr style=\"text-align: right;\">\n",
       "      <th></th>\n",
       "      <th>Hyperparameters</th>\n",
       "      <th>Accuracy</th>\n",
       "      <th>Equality difference</th>\n",
       "      <th>Absolute difference</th>\n",
       "      <th>Accuracy score</th>\n",
       "      <th>Fairness score</th>\n",
       "      <th>Total_score</th>\n",
       "    </tr>\n",
       "  </thead>\n",
       "  <tbody>\n",
       "    <tr>\n",
       "      <th>13</th>\n",
       "      <td>C=10_gamma=0.01</td>\n",
       "      <td>89.85</td>\n",
       "      <td>0.515</td>\n",
       "      <td>0.515</td>\n",
       "      <td>10.0</td>\n",
       "      <td>10.0</td>\n",
       "      <td>20.0</td>\n",
       "    </tr>\n",
       "    <tr>\n",
       "      <th>9</th>\n",
       "      <td>C=1_gamma=0.01</td>\n",
       "      <td>89.89</td>\n",
       "      <td>0.601</td>\n",
       "      <td>0.601</td>\n",
       "      <td>10.0</td>\n",
       "      <td>9.0</td>\n",
       "      <td>19.0</td>\n",
       "    </tr>\n",
       "    <tr>\n",
       "      <th>12</th>\n",
       "      <td>C=10_gamma=0.001</td>\n",
       "      <td>89.72</td>\n",
       "      <td>0.636</td>\n",
       "      <td>0.636</td>\n",
       "      <td>10.0</td>\n",
       "      <td>8.0</td>\n",
       "      <td>18.0</td>\n",
       "    </tr>\n",
       "    <tr>\n",
       "      <th>8</th>\n",
       "      <td>C=1_gamma=0.001</td>\n",
       "      <td>88.95</td>\n",
       "      <td>0.730</td>\n",
       "      <td>0.730</td>\n",
       "      <td>8.0</td>\n",
       "      <td>6.0</td>\n",
       "      <td>14.0</td>\n",
       "    </tr>\n",
       "    <tr>\n",
       "      <th>4</th>\n",
       "      <td>C=0.1_gamma=0.001</td>\n",
       "      <td>88.71</td>\n",
       "      <td>0.778</td>\n",
       "      <td>0.778</td>\n",
       "      <td>7.0</td>\n",
       "      <td>5.0</td>\n",
       "      <td>12.0</td>\n",
       "    </tr>\n",
       "    <tr>\n",
       "      <th>5</th>\n",
       "      <td>C=0.1_gamma=0.01</td>\n",
       "      <td>88.71</td>\n",
       "      <td>0.772</td>\n",
       "      <td>0.772</td>\n",
       "      <td>7.0</td>\n",
       "      <td>5.0</td>\n",
       "      <td>12.0</td>\n",
       "    </tr>\n",
       "    <tr>\n",
       "      <th>14</th>\n",
       "      <td>C=10_gamma=0.1</td>\n",
       "      <td>87.76</td>\n",
       "      <td>0.641</td>\n",
       "      <td>0.641</td>\n",
       "      <td>4.0</td>\n",
       "      <td>8.0</td>\n",
       "      <td>12.0</td>\n",
       "    </tr>\n",
       "    <tr>\n",
       "      <th>10</th>\n",
       "      <td>C=1_gamma=0.1</td>\n",
       "      <td>88.15</td>\n",
       "      <td>0.801</td>\n",
       "      <td>0.801</td>\n",
       "      <td>5.0</td>\n",
       "      <td>5.0</td>\n",
       "      <td>10.0</td>\n",
       "    </tr>\n",
       "    <tr>\n",
       "      <th>0</th>\n",
       "      <td>C=0.01_gamma=0.001</td>\n",
       "      <td>87.36</td>\n",
       "      <td>1.000</td>\n",
       "      <td>1.000</td>\n",
       "      <td>3.0</td>\n",
       "      <td>1.0</td>\n",
       "      <td>4.0</td>\n",
       "    </tr>\n",
       "    <tr>\n",
       "      <th>1</th>\n",
       "      <td>C=0.01_gamma=0.01</td>\n",
       "      <td>87.36</td>\n",
       "      <td>1.000</td>\n",
       "      <td>1.000</td>\n",
       "      <td>3.0</td>\n",
       "      <td>1.0</td>\n",
       "      <td>4.0</td>\n",
       "    </tr>\n",
       "    <tr>\n",
       "      <th>2</th>\n",
       "      <td>C=0.01_gamma=0.1</td>\n",
       "      <td>87.36</td>\n",
       "      <td>1.000</td>\n",
       "      <td>1.000</td>\n",
       "      <td>3.0</td>\n",
       "      <td>1.0</td>\n",
       "      <td>4.0</td>\n",
       "    </tr>\n",
       "    <tr>\n",
       "      <th>3</th>\n",
       "      <td>C=0.01_gamma=1</td>\n",
       "      <td>87.36</td>\n",
       "      <td>1.000</td>\n",
       "      <td>1.000</td>\n",
       "      <td>3.0</td>\n",
       "      <td>1.0</td>\n",
       "      <td>4.0</td>\n",
       "    </tr>\n",
       "    <tr>\n",
       "      <th>6</th>\n",
       "      <td>C=0.1_gamma=0.1</td>\n",
       "      <td>87.36</td>\n",
       "      <td>1.000</td>\n",
       "      <td>1.000</td>\n",
       "      <td>3.0</td>\n",
       "      <td>1.0</td>\n",
       "      <td>4.0</td>\n",
       "    </tr>\n",
       "    <tr>\n",
       "      <th>7</th>\n",
       "      <td>C=0.1_gamma=1</td>\n",
       "      <td>87.36</td>\n",
       "      <td>1.000</td>\n",
       "      <td>1.000</td>\n",
       "      <td>3.0</td>\n",
       "      <td>1.0</td>\n",
       "      <td>4.0</td>\n",
       "    </tr>\n",
       "    <tr>\n",
       "      <th>11</th>\n",
       "      <td>C=1_gamma=1</td>\n",
       "      <td>87.26</td>\n",
       "      <td>0.952</td>\n",
       "      <td>0.952</td>\n",
       "      <td>3.0</td>\n",
       "      <td>1.0</td>\n",
       "      <td>4.0</td>\n",
       "    </tr>\n",
       "    <tr>\n",
       "      <th>15</th>\n",
       "      <td>C=10_gamma=1</td>\n",
       "      <td>86.60</td>\n",
       "      <td>0.888</td>\n",
       "      <td>0.888</td>\n",
       "      <td>1.0</td>\n",
       "      <td>3.0</td>\n",
       "      <td>4.0</td>\n",
       "    </tr>\n",
       "  </tbody>\n",
       "</table>\n",
       "</div>\n",
       "      <button class=\"colab-df-convert\" onclick=\"convertToInteractive('df-cd7b42d9-f61e-4b69-ab01-f08380bd94d0')\"\n",
       "              title=\"Convert this dataframe to an interactive table.\"\n",
       "              style=\"display:none;\">\n",
       "        \n",
       "  <svg xmlns=\"http://www.w3.org/2000/svg\" height=\"24px\"viewBox=\"0 0 24 24\"\n",
       "       width=\"24px\">\n",
       "    <path d=\"M0 0h24v24H0V0z\" fill=\"none\"/>\n",
       "    <path d=\"M18.56 5.44l.94 2.06.94-2.06 2.06-.94-2.06-.94-.94-2.06-.94 2.06-2.06.94zm-11 1L8.5 8.5l.94-2.06 2.06-.94-2.06-.94L8.5 2.5l-.94 2.06-2.06.94zm10 10l.94 2.06.94-2.06 2.06-.94-2.06-.94-.94-2.06-.94 2.06-2.06.94z\"/><path d=\"M17.41 7.96l-1.37-1.37c-.4-.4-.92-.59-1.43-.59-.52 0-1.04.2-1.43.59L10.3 9.45l-7.72 7.72c-.78.78-.78 2.05 0 2.83L4 21.41c.39.39.9.59 1.41.59.51 0 1.02-.2 1.41-.59l7.78-7.78 2.81-2.81c.8-.78.8-2.07 0-2.86zM5.41 20L4 18.59l7.72-7.72 1.47 1.35L5.41 20z\"/>\n",
       "  </svg>\n",
       "      </button>\n",
       "      \n",
       "  <style>\n",
       "    .colab-df-container {\n",
       "      display:flex;\n",
       "      flex-wrap:wrap;\n",
       "      gap: 12px;\n",
       "    }\n",
       "\n",
       "    .colab-df-convert {\n",
       "      background-color: #E8F0FE;\n",
       "      border: none;\n",
       "      border-radius: 50%;\n",
       "      cursor: pointer;\n",
       "      display: none;\n",
       "      fill: #1967D2;\n",
       "      height: 32px;\n",
       "      padding: 0 0 0 0;\n",
       "      width: 32px;\n",
       "    }\n",
       "\n",
       "    .colab-df-convert:hover {\n",
       "      background-color: #E2EBFA;\n",
       "      box-shadow: 0px 1px 2px rgba(60, 64, 67, 0.3), 0px 1px 3px 1px rgba(60, 64, 67, 0.15);\n",
       "      fill: #174EA6;\n",
       "    }\n",
       "\n",
       "    [theme=dark] .colab-df-convert {\n",
       "      background-color: #3B4455;\n",
       "      fill: #D2E3FC;\n",
       "    }\n",
       "\n",
       "    [theme=dark] .colab-df-convert:hover {\n",
       "      background-color: #434B5C;\n",
       "      box-shadow: 0px 1px 3px 1px rgba(0, 0, 0, 0.15);\n",
       "      filter: drop-shadow(0px 1px 2px rgba(0, 0, 0, 0.3));\n",
       "      fill: #FFFFFF;\n",
       "    }\n",
       "  </style>\n",
       "\n",
       "      <script>\n",
       "        const buttonEl =\n",
       "          document.querySelector('#df-cd7b42d9-f61e-4b69-ab01-f08380bd94d0 button.colab-df-convert');\n",
       "        buttonEl.style.display =\n",
       "          google.colab.kernel.accessAllowed ? 'block' : 'none';\n",
       "\n",
       "        async function convertToInteractive(key) {\n",
       "          const element = document.querySelector('#df-cd7b42d9-f61e-4b69-ab01-f08380bd94d0');\n",
       "          const dataTable =\n",
       "            await google.colab.kernel.invokeFunction('convertToInteractive',\n",
       "                                                     [key], {});\n",
       "          if (!dataTable) return;\n",
       "\n",
       "          const docLinkHtml = 'Like what you see? Visit the ' +\n",
       "            '<a target=\"_blank\" href=https://colab.research.google.com/notebooks/data_table.ipynb>data table notebook</a>'\n",
       "            + ' to learn more about interactive tables.';\n",
       "          element.innerHTML = '';\n",
       "          dataTable['output_type'] = 'display_data';\n",
       "          await google.colab.output.renderOutput(dataTable, element);\n",
       "          const docLink = document.createElement('div');\n",
       "          docLink.innerHTML = docLinkHtml;\n",
       "          element.appendChild(docLink);\n",
       "        }\n",
       "      </script>\n",
       "    </div>\n",
       "  </div>\n",
       "  "
      ],
      "text/plain": [
       "       Hyperparameters  Accuracy  Equality difference  Absolute difference  \\\n",
       "13     C=10_gamma=0.01     89.85                0.515                0.515   \n",
       "9       C=1_gamma=0.01     89.89                0.601                0.601   \n",
       "12    C=10_gamma=0.001     89.72                0.636                0.636   \n",
       "8      C=1_gamma=0.001     88.95                0.730                0.730   \n",
       "4    C=0.1_gamma=0.001     88.71                0.778                0.778   \n",
       "5     C=0.1_gamma=0.01     88.71                0.772                0.772   \n",
       "14      C=10_gamma=0.1     87.76                0.641                0.641   \n",
       "10       C=1_gamma=0.1     88.15                0.801                0.801   \n",
       "0   C=0.01_gamma=0.001     87.36                1.000                1.000   \n",
       "1    C=0.01_gamma=0.01     87.36                1.000                1.000   \n",
       "2     C=0.01_gamma=0.1     87.36                1.000                1.000   \n",
       "3       C=0.01_gamma=1     87.36                1.000                1.000   \n",
       "6      C=0.1_gamma=0.1     87.36                1.000                1.000   \n",
       "7        C=0.1_gamma=1     87.36                1.000                1.000   \n",
       "11         C=1_gamma=1     87.26                0.952                0.952   \n",
       "15        C=10_gamma=1     86.60                0.888                0.888   \n",
       "\n",
       "    Accuracy score  Fairness score  Total_score  \n",
       "13            10.0            10.0         20.0  \n",
       "9             10.0             9.0         19.0  \n",
       "12            10.0             8.0         18.0  \n",
       "8              8.0             6.0         14.0  \n",
       "4              7.0             5.0         12.0  \n",
       "5              7.0             5.0         12.0  \n",
       "14             4.0             8.0         12.0  \n",
       "10             5.0             5.0         10.0  \n",
       "0              3.0             1.0          4.0  \n",
       "1              3.0             1.0          4.0  \n",
       "2              3.0             1.0          4.0  \n",
       "3              3.0             1.0          4.0  \n",
       "6              3.0             1.0          4.0  \n",
       "7              3.0             1.0          4.0  \n",
       "11             3.0             1.0          4.0  \n",
       "15             1.0             3.0          4.0  "
      ]
     },
     "execution_count": 68,
     "metadata": {},
     "output_type": "execute_result"
    }
   ],
   "source": [
    "nw_bank"
   ]
  },
  {
   "cell_type": "code",
   "execution_count": 69,
   "metadata": {
    "colab": {
     "base_uri": "https://localhost:8080/",
     "height": 551
    },
    "id": "OIwWP3LtAy2Q",
    "outputId": "9534f227-6448-41d4-8208-6fc64bee58ee"
   },
   "outputs": [
    {
     "data": {
      "text/html": [
       "\n",
       "  <div id=\"df-e5e57280-2d5c-4c4d-90f6-dde7690c67e8\">\n",
       "    <div class=\"colab-df-container\">\n",
       "      <div>\n",
       "<style scoped>\n",
       "    .dataframe tbody tr th:only-of-type {\n",
       "        vertical-align: middle;\n",
       "    }\n",
       "\n",
       "    .dataframe tbody tr th {\n",
       "        vertical-align: top;\n",
       "    }\n",
       "\n",
       "    .dataframe thead th {\n",
       "        text-align: right;\n",
       "    }\n",
       "</style>\n",
       "<table border=\"1\" class=\"dataframe\">\n",
       "  <thead>\n",
       "    <tr style=\"text-align: right;\">\n",
       "      <th></th>\n",
       "      <th>Hyperparameters</th>\n",
       "      <th>Accuracy</th>\n",
       "      <th>Equality difference</th>\n",
       "      <th>Absolute difference</th>\n",
       "      <th>Accuracy score</th>\n",
       "      <th>Fairness score</th>\n",
       "      <th>Total_score</th>\n",
       "    </tr>\n",
       "  </thead>\n",
       "  <tbody>\n",
       "    <tr>\n",
       "      <th>13</th>\n",
       "      <td>C=10_gamma=0.01</td>\n",
       "      <td>89.87</td>\n",
       "      <td>0.513</td>\n",
       "      <td>0.513</td>\n",
       "      <td>10.0</td>\n",
       "      <td>10.0</td>\n",
       "      <td>20.0</td>\n",
       "    </tr>\n",
       "    <tr>\n",
       "      <th>9</th>\n",
       "      <td>C=1_gamma=0.01</td>\n",
       "      <td>89.89</td>\n",
       "      <td>0.599</td>\n",
       "      <td>0.599</td>\n",
       "      <td>10.0</td>\n",
       "      <td>9.0</td>\n",
       "      <td>19.0</td>\n",
       "    </tr>\n",
       "    <tr>\n",
       "      <th>12</th>\n",
       "      <td>C=10_gamma=0.001</td>\n",
       "      <td>89.81</td>\n",
       "      <td>0.632</td>\n",
       "      <td>0.632</td>\n",
       "      <td>10.0</td>\n",
       "      <td>8.0</td>\n",
       "      <td>18.0</td>\n",
       "    </tr>\n",
       "    <tr>\n",
       "      <th>8</th>\n",
       "      <td>C=1_gamma=0.001</td>\n",
       "      <td>88.95</td>\n",
       "      <td>0.729</td>\n",
       "      <td>0.729</td>\n",
       "      <td>8.0</td>\n",
       "      <td>6.0</td>\n",
       "      <td>14.0</td>\n",
       "    </tr>\n",
       "    <tr>\n",
       "      <th>4</th>\n",
       "      <td>C=0.1_gamma=0.001</td>\n",
       "      <td>88.70</td>\n",
       "      <td>0.779</td>\n",
       "      <td>0.779</td>\n",
       "      <td>7.0</td>\n",
       "      <td>5.0</td>\n",
       "      <td>12.0</td>\n",
       "    </tr>\n",
       "    <tr>\n",
       "      <th>5</th>\n",
       "      <td>C=0.1_gamma=0.01</td>\n",
       "      <td>88.69</td>\n",
       "      <td>0.775</td>\n",
       "      <td>0.775</td>\n",
       "      <td>7.0</td>\n",
       "      <td>5.0</td>\n",
       "      <td>12.0</td>\n",
       "    </tr>\n",
       "    <tr>\n",
       "      <th>14</th>\n",
       "      <td>C=10_gamma=0.1</td>\n",
       "      <td>87.76</td>\n",
       "      <td>0.637</td>\n",
       "      <td>0.637</td>\n",
       "      <td>4.0</td>\n",
       "      <td>8.0</td>\n",
       "      <td>12.0</td>\n",
       "    </tr>\n",
       "    <tr>\n",
       "      <th>10</th>\n",
       "      <td>C=1_gamma=0.1</td>\n",
       "      <td>88.13</td>\n",
       "      <td>0.801</td>\n",
       "      <td>0.801</td>\n",
       "      <td>5.0</td>\n",
       "      <td>5.0</td>\n",
       "      <td>10.0</td>\n",
       "    </tr>\n",
       "    <tr>\n",
       "      <th>0</th>\n",
       "      <td>C=0.01_gamma=0.001</td>\n",
       "      <td>87.36</td>\n",
       "      <td>1.000</td>\n",
       "      <td>1.000</td>\n",
       "      <td>3.0</td>\n",
       "      <td>1.0</td>\n",
       "      <td>4.0</td>\n",
       "    </tr>\n",
       "    <tr>\n",
       "      <th>1</th>\n",
       "      <td>C=0.01_gamma=0.01</td>\n",
       "      <td>87.36</td>\n",
       "      <td>1.000</td>\n",
       "      <td>1.000</td>\n",
       "      <td>3.0</td>\n",
       "      <td>1.0</td>\n",
       "      <td>4.0</td>\n",
       "    </tr>\n",
       "    <tr>\n",
       "      <th>2</th>\n",
       "      <td>C=0.01_gamma=0.1</td>\n",
       "      <td>87.36</td>\n",
       "      <td>1.000</td>\n",
       "      <td>1.000</td>\n",
       "      <td>3.0</td>\n",
       "      <td>1.0</td>\n",
       "      <td>4.0</td>\n",
       "    </tr>\n",
       "    <tr>\n",
       "      <th>3</th>\n",
       "      <td>C=0.01_gamma=1</td>\n",
       "      <td>87.36</td>\n",
       "      <td>1.000</td>\n",
       "      <td>1.000</td>\n",
       "      <td>3.0</td>\n",
       "      <td>1.0</td>\n",
       "      <td>4.0</td>\n",
       "    </tr>\n",
       "    <tr>\n",
       "      <th>6</th>\n",
       "      <td>C=0.1_gamma=0.1</td>\n",
       "      <td>87.36</td>\n",
       "      <td>1.000</td>\n",
       "      <td>1.000</td>\n",
       "      <td>3.0</td>\n",
       "      <td>1.0</td>\n",
       "      <td>4.0</td>\n",
       "    </tr>\n",
       "    <tr>\n",
       "      <th>7</th>\n",
       "      <td>C=0.1_gamma=1</td>\n",
       "      <td>87.36</td>\n",
       "      <td>1.000</td>\n",
       "      <td>1.000</td>\n",
       "      <td>3.0</td>\n",
       "      <td>1.0</td>\n",
       "      <td>4.0</td>\n",
       "    </tr>\n",
       "    <tr>\n",
       "      <th>15</th>\n",
       "      <td>C=10_gamma=1</td>\n",
       "      <td>86.60</td>\n",
       "      <td>0.887</td>\n",
       "      <td>0.887</td>\n",
       "      <td>1.0</td>\n",
       "      <td>3.0</td>\n",
       "      <td>4.0</td>\n",
       "    </tr>\n",
       "    <tr>\n",
       "      <th>11</th>\n",
       "      <td>C=1_gamma=1</td>\n",
       "      <td>87.25</td>\n",
       "      <td>0.953</td>\n",
       "      <td>0.953</td>\n",
       "      <td>2.0</td>\n",
       "      <td>1.0</td>\n",
       "      <td>3.0</td>\n",
       "    </tr>\n",
       "  </tbody>\n",
       "</table>\n",
       "</div>\n",
       "      <button class=\"colab-df-convert\" onclick=\"convertToInteractive('df-e5e57280-2d5c-4c4d-90f6-dde7690c67e8')\"\n",
       "              title=\"Convert this dataframe to an interactive table.\"\n",
       "              style=\"display:none;\">\n",
       "        \n",
       "  <svg xmlns=\"http://www.w3.org/2000/svg\" height=\"24px\"viewBox=\"0 0 24 24\"\n",
       "       width=\"24px\">\n",
       "    <path d=\"M0 0h24v24H0V0z\" fill=\"none\"/>\n",
       "    <path d=\"M18.56 5.44l.94 2.06.94-2.06 2.06-.94-2.06-.94-.94-2.06-.94 2.06-2.06.94zm-11 1L8.5 8.5l.94-2.06 2.06-.94-2.06-.94L8.5 2.5l-.94 2.06-2.06.94zm10 10l.94 2.06.94-2.06 2.06-.94-2.06-.94-.94-2.06-.94 2.06-2.06.94z\"/><path d=\"M17.41 7.96l-1.37-1.37c-.4-.4-.92-.59-1.43-.59-.52 0-1.04.2-1.43.59L10.3 9.45l-7.72 7.72c-.78.78-.78 2.05 0 2.83L4 21.41c.39.39.9.59 1.41.59.51 0 1.02-.2 1.41-.59l7.78-7.78 2.81-2.81c.8-.78.8-2.07 0-2.86zM5.41 20L4 18.59l7.72-7.72 1.47 1.35L5.41 20z\"/>\n",
       "  </svg>\n",
       "      </button>\n",
       "      \n",
       "  <style>\n",
       "    .colab-df-container {\n",
       "      display:flex;\n",
       "      flex-wrap:wrap;\n",
       "      gap: 12px;\n",
       "    }\n",
       "\n",
       "    .colab-df-convert {\n",
       "      background-color: #E8F0FE;\n",
       "      border: none;\n",
       "      border-radius: 50%;\n",
       "      cursor: pointer;\n",
       "      display: none;\n",
       "      fill: #1967D2;\n",
       "      height: 32px;\n",
       "      padding: 0 0 0 0;\n",
       "      width: 32px;\n",
       "    }\n",
       "\n",
       "    .colab-df-convert:hover {\n",
       "      background-color: #E2EBFA;\n",
       "      box-shadow: 0px 1px 2px rgba(60, 64, 67, 0.3), 0px 1px 3px 1px rgba(60, 64, 67, 0.15);\n",
       "      fill: #174EA6;\n",
       "    }\n",
       "\n",
       "    [theme=dark] .colab-df-convert {\n",
       "      background-color: #3B4455;\n",
       "      fill: #D2E3FC;\n",
       "    }\n",
       "\n",
       "    [theme=dark] .colab-df-convert:hover {\n",
       "      background-color: #434B5C;\n",
       "      box-shadow: 0px 1px 3px 1px rgba(0, 0, 0, 0.15);\n",
       "      filter: drop-shadow(0px 1px 2px rgba(0, 0, 0, 0.3));\n",
       "      fill: #FFFFFF;\n",
       "    }\n",
       "  </style>\n",
       "\n",
       "      <script>\n",
       "        const buttonEl =\n",
       "          document.querySelector('#df-e5e57280-2d5c-4c4d-90f6-dde7690c67e8 button.colab-df-convert');\n",
       "        buttonEl.style.display =\n",
       "          google.colab.kernel.accessAllowed ? 'block' : 'none';\n",
       "\n",
       "        async function convertToInteractive(key) {\n",
       "          const element = document.querySelector('#df-e5e57280-2d5c-4c4d-90f6-dde7690c67e8');\n",
       "          const dataTable =\n",
       "            await google.colab.kernel.invokeFunction('convertToInteractive',\n",
       "                                                     [key], {});\n",
       "          if (!dataTable) return;\n",
       "\n",
       "          const docLinkHtml = 'Like what you see? Visit the ' +\n",
       "            '<a target=\"_blank\" href=https://colab.research.google.com/notebooks/data_table.ipynb>data table notebook</a>'\n",
       "            + ' to learn more about interactive tables.';\n",
       "          element.innerHTML = '';\n",
       "          dataTable['output_type'] = 'display_data';\n",
       "          await google.colab.output.renderOutput(dataTable, element);\n",
       "          const docLink = document.createElement('div');\n",
       "          docLink.innerHTML = docLinkHtml;\n",
       "          element.appendChild(docLink);\n",
       "        }\n",
       "      </script>\n",
       "    </div>\n",
       "  </div>\n",
       "  "
      ],
      "text/plain": [
       "       Hyperparameters  Accuracy  Equality difference  Absolute difference  \\\n",
       "13     C=10_gamma=0.01     89.87                0.513                0.513   \n",
       "9       C=1_gamma=0.01     89.89                0.599                0.599   \n",
       "12    C=10_gamma=0.001     89.81                0.632                0.632   \n",
       "8      C=1_gamma=0.001     88.95                0.729                0.729   \n",
       "4    C=0.1_gamma=0.001     88.70                0.779                0.779   \n",
       "5     C=0.1_gamma=0.01     88.69                0.775                0.775   \n",
       "14      C=10_gamma=0.1     87.76                0.637                0.637   \n",
       "10       C=1_gamma=0.1     88.13                0.801                0.801   \n",
       "0   C=0.01_gamma=0.001     87.36                1.000                1.000   \n",
       "1    C=0.01_gamma=0.01     87.36                1.000                1.000   \n",
       "2     C=0.01_gamma=0.1     87.36                1.000                1.000   \n",
       "3       C=0.01_gamma=1     87.36                1.000                1.000   \n",
       "6      C=0.1_gamma=0.1     87.36                1.000                1.000   \n",
       "7        C=0.1_gamma=1     87.36                1.000                1.000   \n",
       "15        C=10_gamma=1     86.60                0.887                0.887   \n",
       "11         C=1_gamma=1     87.25                0.953                0.953   \n",
       "\n",
       "    Accuracy score  Fairness score  Total_score  \n",
       "13            10.0            10.0         20.0  \n",
       "9             10.0             9.0         19.0  \n",
       "12            10.0             8.0         18.0  \n",
       "8              8.0             6.0         14.0  \n",
       "4              7.0             5.0         12.0  \n",
       "5              7.0             5.0         12.0  \n",
       "14             4.0             8.0         12.0  \n",
       "10             5.0             5.0         10.0  \n",
       "0              3.0             1.0          4.0  \n",
       "1              3.0             1.0          4.0  \n",
       "2              3.0             1.0          4.0  \n",
       "3              3.0             1.0          4.0  \n",
       "6              3.0             1.0          4.0  \n",
       "7              3.0             1.0          4.0  \n",
       "15             1.0             3.0          4.0  \n",
       "11             2.0             1.0          3.0  "
      ]
     },
     "execution_count": 69,
     "metadata": {},
     "output_type": "execute_result"
    }
   ],
   "source": [
    "rewt_bank"
   ]
  },
  {
   "cell_type": "code",
   "execution_count": 70,
   "metadata": {
    "colab": {
     "base_uri": "https://localhost:8080/"
    },
    "id": "5C1gzmZLA3XR",
    "outputId": "27c3fbc8-3a80-46ad-b397-a3955c0e9e4f"
   },
   "outputs": [
    {
     "name": "stdout",
     "output_type": "stream",
     "text": [
      "Accuracy on test:  89.13 %\n",
      "Equal opportunity difference:  -0.009\n",
      "Disparate Impact:  1.712\n",
      "[[7660  340]\n",
      " [ 656  509]]\n"
     ]
    }
   ],
   "source": [
    "simple_model(SVC(C=10, gamma=0.01, kernel='rbf'), X_train_bk, X_test_bk, y_train_bk, y_test_bk, test_bk, unprivileged_bank, privileged_bank)"
   ]
  },
  {
   "cell_type": "code",
   "execution_count": 74,
   "metadata": {
    "colab": {
     "base_uri": "https://localhost:8080/"
    },
    "id": "jA4w4ECiB2sX",
    "outputId": "091ae988-1454-4edc-cdb0-5c6edc1650d6"
   },
   "outputs": [
    {
     "name": "stdout",
     "output_type": "stream",
     "text": [
      "Accuracy on test:  89.13 %\n",
      "Equal opportunity difference:  -0.009\n",
      "Disparate Impact:  1.712\n",
      "[[7660  340]\n",
      " [ 656  509]]\n"
     ]
    }
   ],
   "source": [
    "reweighted_model(SVC(C=10, gamma=0.01, kernel='rbf'), X_train_bk, X_test_bk, y_train_bk, y_test_bk, test_bk, unprivileged_bank, privileged_bank, train_bk.instance_weights)"
   ]
  },
  {
   "cell_type": "markdown",
   "metadata": {
    "id": "rszy-D-4DjAj"
   },
   "source": [
    "Task 3 on Adult dataset"
   ]
  },
  {
   "cell_type": "code",
   "execution_count": null,
   "metadata": {
    "id": "cre1TUtuDkfp"
   },
   "outputs": [],
   "source": [
    "optimal_adult = optimal_selection(df_adult)\n",
    "rewt_optimal_adult = optimal_selection(df_adult_rw)"
   ]
  },
  {
   "cell_type": "code",
   "execution_count": 76,
   "metadata": {
    "colab": {
     "base_uri": "https://localhost:8080/",
     "height": 426
    },
    "id": "RalJqtb0DwS7",
    "outputId": "9054bb63-0300-4e47-a88a-3fd2bfd34f67"
   },
   "outputs": [
    {
     "data": {
      "text/html": [
       "\n",
       "  <div id=\"df-d27641f9-634f-4728-a869-eed6035def50\">\n",
       "    <div class=\"colab-df-container\">\n",
       "      <div>\n",
       "<style scoped>\n",
       "    .dataframe tbody tr th:only-of-type {\n",
       "        vertical-align: middle;\n",
       "    }\n",
       "\n",
       "    .dataframe tbody tr th {\n",
       "        vertical-align: top;\n",
       "    }\n",
       "\n",
       "    .dataframe thead th {\n",
       "        text-align: right;\n",
       "    }\n",
       "</style>\n",
       "<table border=\"1\" class=\"dataframe\">\n",
       "  <thead>\n",
       "    <tr style=\"text-align: right;\">\n",
       "      <th></th>\n",
       "      <th>Hyperparameters</th>\n",
       "      <th>Accuracy</th>\n",
       "      <th>Equality difference</th>\n",
       "      <th>Absolute difference</th>\n",
       "      <th>Accuracy score</th>\n",
       "      <th>Fairness score</th>\n",
       "      <th>Total_score</th>\n",
       "    </tr>\n",
       "  </thead>\n",
       "  <tbody>\n",
       "    <tr>\n",
       "      <th>7</th>\n",
       "      <td>C=1_gamma=1</td>\n",
       "      <td>80.30</td>\n",
       "      <td>0.524</td>\n",
       "      <td>0.524</td>\n",
       "      <td>10.0</td>\n",
       "      <td>9.0</td>\n",
       "      <td>19.0</td>\n",
       "    </tr>\n",
       "    <tr>\n",
       "      <th>10</th>\n",
       "      <td>C=10_gamma=0.1</td>\n",
       "      <td>80.30</td>\n",
       "      <td>0.523</td>\n",
       "      <td>0.523</td>\n",
       "      <td>10.0</td>\n",
       "      <td>9.0</td>\n",
       "      <td>19.0</td>\n",
       "    </tr>\n",
       "    <tr>\n",
       "      <th>11</th>\n",
       "      <td>C=10_gamma=1</td>\n",
       "      <td>80.30</td>\n",
       "      <td>0.524</td>\n",
       "      <td>0.524</td>\n",
       "      <td>10.0</td>\n",
       "      <td>9.0</td>\n",
       "      <td>19.0</td>\n",
       "    </tr>\n",
       "    <tr>\n",
       "      <th>2</th>\n",
       "      <td>C=0.1_gamma=0.1</td>\n",
       "      <td>80.39</td>\n",
       "      <td>0.563</td>\n",
       "      <td>0.563</td>\n",
       "      <td>10.0</td>\n",
       "      <td>8.0</td>\n",
       "      <td>18.0</td>\n",
       "    </tr>\n",
       "    <tr>\n",
       "      <th>3</th>\n",
       "      <td>C=0.1_gamma=1</td>\n",
       "      <td>80.32</td>\n",
       "      <td>0.553</td>\n",
       "      <td>0.553</td>\n",
       "      <td>10.0</td>\n",
       "      <td>8.0</td>\n",
       "      <td>18.0</td>\n",
       "    </tr>\n",
       "    <tr>\n",
       "      <th>5</th>\n",
       "      <td>C=1_gamma=0.01</td>\n",
       "      <td>80.30</td>\n",
       "      <td>0.543</td>\n",
       "      <td>0.543</td>\n",
       "      <td>10.0</td>\n",
       "      <td>8.0</td>\n",
       "      <td>18.0</td>\n",
       "    </tr>\n",
       "    <tr>\n",
       "      <th>6</th>\n",
       "      <td>C=1_gamma=0.1</td>\n",
       "      <td>80.30</td>\n",
       "      <td>0.543</td>\n",
       "      <td>0.543</td>\n",
       "      <td>10.0</td>\n",
       "      <td>8.0</td>\n",
       "      <td>18.0</td>\n",
       "    </tr>\n",
       "    <tr>\n",
       "      <th>9</th>\n",
       "      <td>C=10_gamma=0.01</td>\n",
       "      <td>80.31</td>\n",
       "      <td>0.544</td>\n",
       "      <td>0.544</td>\n",
       "      <td>10.0</td>\n",
       "      <td>8.0</td>\n",
       "      <td>18.0</td>\n",
       "    </tr>\n",
       "    <tr>\n",
       "      <th>1</th>\n",
       "      <td>C=0.1_gamma=0.01</td>\n",
       "      <td>79.04</td>\n",
       "      <td>0.444</td>\n",
       "      <td>0.444</td>\n",
       "      <td>7.0</td>\n",
       "      <td>10.0</td>\n",
       "      <td>17.0</td>\n",
       "    </tr>\n",
       "    <tr>\n",
       "      <th>4</th>\n",
       "      <td>C=1_gamma=0.001</td>\n",
       "      <td>78.69</td>\n",
       "      <td>0.419</td>\n",
       "      <td>0.419</td>\n",
       "      <td>7.0</td>\n",
       "      <td>10.0</td>\n",
       "      <td>17.0</td>\n",
       "    </tr>\n",
       "    <tr>\n",
       "      <th>8</th>\n",
       "      <td>C=10_gamma=0.001</td>\n",
       "      <td>78.89</td>\n",
       "      <td>0.431</td>\n",
       "      <td>0.431</td>\n",
       "      <td>7.0</td>\n",
       "      <td>10.0</td>\n",
       "      <td>17.0</td>\n",
       "    </tr>\n",
       "    <tr>\n",
       "      <th>0</th>\n",
       "      <td>C=0.1_gamma=0.001</td>\n",
       "      <td>76.06</td>\n",
       "      <td>1.000</td>\n",
       "      <td>1.000</td>\n",
       "      <td>1.0</td>\n",
       "      <td>1.0</td>\n",
       "      <td>2.0</td>\n",
       "    </tr>\n",
       "  </tbody>\n",
       "</table>\n",
       "</div>\n",
       "      <button class=\"colab-df-convert\" onclick=\"convertToInteractive('df-d27641f9-634f-4728-a869-eed6035def50')\"\n",
       "              title=\"Convert this dataframe to an interactive table.\"\n",
       "              style=\"display:none;\">\n",
       "        \n",
       "  <svg xmlns=\"http://www.w3.org/2000/svg\" height=\"24px\"viewBox=\"0 0 24 24\"\n",
       "       width=\"24px\">\n",
       "    <path d=\"M0 0h24v24H0V0z\" fill=\"none\"/>\n",
       "    <path d=\"M18.56 5.44l.94 2.06.94-2.06 2.06-.94-2.06-.94-.94-2.06-.94 2.06-2.06.94zm-11 1L8.5 8.5l.94-2.06 2.06-.94-2.06-.94L8.5 2.5l-.94 2.06-2.06.94zm10 10l.94 2.06.94-2.06 2.06-.94-2.06-.94-.94-2.06-.94 2.06-2.06.94z\"/><path d=\"M17.41 7.96l-1.37-1.37c-.4-.4-.92-.59-1.43-.59-.52 0-1.04.2-1.43.59L10.3 9.45l-7.72 7.72c-.78.78-.78 2.05 0 2.83L4 21.41c.39.39.9.59 1.41.59.51 0 1.02-.2 1.41-.59l7.78-7.78 2.81-2.81c.8-.78.8-2.07 0-2.86zM5.41 20L4 18.59l7.72-7.72 1.47 1.35L5.41 20z\"/>\n",
       "  </svg>\n",
       "      </button>\n",
       "      \n",
       "  <style>\n",
       "    .colab-df-container {\n",
       "      display:flex;\n",
       "      flex-wrap:wrap;\n",
       "      gap: 12px;\n",
       "    }\n",
       "\n",
       "    .colab-df-convert {\n",
       "      background-color: #E8F0FE;\n",
       "      border: none;\n",
       "      border-radius: 50%;\n",
       "      cursor: pointer;\n",
       "      display: none;\n",
       "      fill: #1967D2;\n",
       "      height: 32px;\n",
       "      padding: 0 0 0 0;\n",
       "      width: 32px;\n",
       "    }\n",
       "\n",
       "    .colab-df-convert:hover {\n",
       "      background-color: #E2EBFA;\n",
       "      box-shadow: 0px 1px 2px rgba(60, 64, 67, 0.3), 0px 1px 3px 1px rgba(60, 64, 67, 0.15);\n",
       "      fill: #174EA6;\n",
       "    }\n",
       "\n",
       "    [theme=dark] .colab-df-convert {\n",
       "      background-color: #3B4455;\n",
       "      fill: #D2E3FC;\n",
       "    }\n",
       "\n",
       "    [theme=dark] .colab-df-convert:hover {\n",
       "      background-color: #434B5C;\n",
       "      box-shadow: 0px 1px 3px 1px rgba(0, 0, 0, 0.15);\n",
       "      filter: drop-shadow(0px 1px 2px rgba(0, 0, 0, 0.3));\n",
       "      fill: #FFFFFF;\n",
       "    }\n",
       "  </style>\n",
       "\n",
       "      <script>\n",
       "        const buttonEl =\n",
       "          document.querySelector('#df-d27641f9-634f-4728-a869-eed6035def50 button.colab-df-convert');\n",
       "        buttonEl.style.display =\n",
       "          google.colab.kernel.accessAllowed ? 'block' : 'none';\n",
       "\n",
       "        async function convertToInteractive(key) {\n",
       "          const element = document.querySelector('#df-d27641f9-634f-4728-a869-eed6035def50');\n",
       "          const dataTable =\n",
       "            await google.colab.kernel.invokeFunction('convertToInteractive',\n",
       "                                                     [key], {});\n",
       "          if (!dataTable) return;\n",
       "\n",
       "          const docLinkHtml = 'Like what you see? Visit the ' +\n",
       "            '<a target=\"_blank\" href=https://colab.research.google.com/notebooks/data_table.ipynb>data table notebook</a>'\n",
       "            + ' to learn more about interactive tables.';\n",
       "          element.innerHTML = '';\n",
       "          dataTable['output_type'] = 'display_data';\n",
       "          await google.colab.output.renderOutput(dataTable, element);\n",
       "          const docLink = document.createElement('div');\n",
       "          docLink.innerHTML = docLinkHtml;\n",
       "          element.appendChild(docLink);\n",
       "        }\n",
       "      </script>\n",
       "    </div>\n",
       "  </div>\n",
       "  "
      ],
      "text/plain": [
       "      Hyperparameters  Accuracy  Equality difference  Absolute difference  \\\n",
       "7         C=1_gamma=1     80.30                0.524                0.524   \n",
       "10     C=10_gamma=0.1     80.30                0.523                0.523   \n",
       "11       C=10_gamma=1     80.30                0.524                0.524   \n",
       "2     C=0.1_gamma=0.1     80.39                0.563                0.563   \n",
       "3       C=0.1_gamma=1     80.32                0.553                0.553   \n",
       "5      C=1_gamma=0.01     80.30                0.543                0.543   \n",
       "6       C=1_gamma=0.1     80.30                0.543                0.543   \n",
       "9     C=10_gamma=0.01     80.31                0.544                0.544   \n",
       "1    C=0.1_gamma=0.01     79.04                0.444                0.444   \n",
       "4     C=1_gamma=0.001     78.69                0.419                0.419   \n",
       "8    C=10_gamma=0.001     78.89                0.431                0.431   \n",
       "0   C=0.1_gamma=0.001     76.06                1.000                1.000   \n",
       "\n",
       "    Accuracy score  Fairness score  Total_score  \n",
       "7             10.0             9.0         19.0  \n",
       "10            10.0             9.0         19.0  \n",
       "11            10.0             9.0         19.0  \n",
       "2             10.0             8.0         18.0  \n",
       "3             10.0             8.0         18.0  \n",
       "5             10.0             8.0         18.0  \n",
       "6             10.0             8.0         18.0  \n",
       "9             10.0             8.0         18.0  \n",
       "1              7.0            10.0         17.0  \n",
       "4              7.0            10.0         17.0  \n",
       "8              7.0            10.0         17.0  \n",
       "0              1.0             1.0          2.0  "
      ]
     },
     "execution_count": 76,
     "metadata": {},
     "output_type": "execute_result"
    }
   ],
   "source": [
    "optimal_adult"
   ]
  },
  {
   "cell_type": "code",
   "execution_count": 77,
   "metadata": {
    "colab": {
     "base_uri": "https://localhost:8080/",
     "height": 551
    },
    "id": "sgm6iSiyDx7t",
    "outputId": "cf0358ec-4142-47e5-ca3a-328ea52d2fbd"
   },
   "outputs": [
    {
     "data": {
      "text/html": [
       "\n",
       "  <div id=\"df-772a5192-25f3-41a7-807f-8810953b0343\">\n",
       "    <div class=\"colab-df-container\">\n",
       "      <div>\n",
       "<style scoped>\n",
       "    .dataframe tbody tr th:only-of-type {\n",
       "        vertical-align: middle;\n",
       "    }\n",
       "\n",
       "    .dataframe tbody tr th {\n",
       "        vertical-align: top;\n",
       "    }\n",
       "\n",
       "    .dataframe thead th {\n",
       "        text-align: right;\n",
       "    }\n",
       "</style>\n",
       "<table border=\"1\" class=\"dataframe\">\n",
       "  <thead>\n",
       "    <tr style=\"text-align: right;\">\n",
       "      <th></th>\n",
       "      <th>Hyperparameters</th>\n",
       "      <th>Accuracy</th>\n",
       "      <th>Equality difference</th>\n",
       "      <th>Absolute difference</th>\n",
       "      <th>Accuracy score</th>\n",
       "      <th>Fairness score</th>\n",
       "      <th>Total_score</th>\n",
       "    </tr>\n",
       "  </thead>\n",
       "  <tbody>\n",
       "    <tr>\n",
       "      <th>1</th>\n",
       "      <td>C=0.1_gamma=0.01</td>\n",
       "      <td>78.79</td>\n",
       "      <td>0.430</td>\n",
       "      <td>0.430</td>\n",
       "      <td>10.0</td>\n",
       "      <td>10.0</td>\n",
       "      <td>20.0</td>\n",
       "    </tr>\n",
       "    <tr>\n",
       "      <th>2</th>\n",
       "      <td>C=0.1_gamma=0.1</td>\n",
       "      <td>78.99</td>\n",
       "      <td>0.473</td>\n",
       "      <td>0.473</td>\n",
       "      <td>10.0</td>\n",
       "      <td>10.0</td>\n",
       "      <td>20.0</td>\n",
       "    </tr>\n",
       "    <tr>\n",
       "      <th>5</th>\n",
       "      <td>C=1_gamma=0.01</td>\n",
       "      <td>78.80</td>\n",
       "      <td>0.431</td>\n",
       "      <td>0.431</td>\n",
       "      <td>10.0</td>\n",
       "      <td>10.0</td>\n",
       "      <td>20.0</td>\n",
       "    </tr>\n",
       "    <tr>\n",
       "      <th>6</th>\n",
       "      <td>C=1_gamma=0.1</td>\n",
       "      <td>78.98</td>\n",
       "      <td>0.462</td>\n",
       "      <td>0.462</td>\n",
       "      <td>10.0</td>\n",
       "      <td>10.0</td>\n",
       "      <td>20.0</td>\n",
       "    </tr>\n",
       "    <tr>\n",
       "      <th>7</th>\n",
       "      <td>C=1_gamma=1</td>\n",
       "      <td>78.95</td>\n",
       "      <td>0.461</td>\n",
       "      <td>0.461</td>\n",
       "      <td>10.0</td>\n",
       "      <td>10.0</td>\n",
       "      <td>20.0</td>\n",
       "    </tr>\n",
       "    <tr>\n",
       "      <th>9</th>\n",
       "      <td>C=10_gamma=0.01</td>\n",
       "      <td>78.98</td>\n",
       "      <td>0.465</td>\n",
       "      <td>0.465</td>\n",
       "      <td>10.0</td>\n",
       "      <td>10.0</td>\n",
       "      <td>20.0</td>\n",
       "    </tr>\n",
       "    <tr>\n",
       "      <th>10</th>\n",
       "      <td>C=10_gamma=0.1</td>\n",
       "      <td>78.86</td>\n",
       "      <td>0.459</td>\n",
       "      <td>0.459</td>\n",
       "      <td>10.0</td>\n",
       "      <td>10.0</td>\n",
       "      <td>20.0</td>\n",
       "    </tr>\n",
       "    <tr>\n",
       "      <th>11</th>\n",
       "      <td>C=10_gamma=1</td>\n",
       "      <td>78.86</td>\n",
       "      <td>0.459</td>\n",
       "      <td>0.459</td>\n",
       "      <td>10.0</td>\n",
       "      <td>10.0</td>\n",
       "      <td>20.0</td>\n",
       "    </tr>\n",
       "    <tr>\n",
       "      <th>12</th>\n",
       "      <td>C=100_gamma=0.001</td>\n",
       "      <td>78.80</td>\n",
       "      <td>0.430</td>\n",
       "      <td>0.430</td>\n",
       "      <td>10.0</td>\n",
       "      <td>10.0</td>\n",
       "      <td>20.0</td>\n",
       "    </tr>\n",
       "    <tr>\n",
       "      <th>13</th>\n",
       "      <td>C=100_gamma=0.01</td>\n",
       "      <td>79.02</td>\n",
       "      <td>0.459</td>\n",
       "      <td>0.459</td>\n",
       "      <td>10.0</td>\n",
       "      <td>10.0</td>\n",
       "      <td>20.0</td>\n",
       "    </tr>\n",
       "    <tr>\n",
       "      <th>14</th>\n",
       "      <td>C=100_gamma=0.1</td>\n",
       "      <td>78.86</td>\n",
       "      <td>0.459</td>\n",
       "      <td>0.459</td>\n",
       "      <td>10.0</td>\n",
       "      <td>10.0</td>\n",
       "      <td>20.0</td>\n",
       "    </tr>\n",
       "    <tr>\n",
       "      <th>15</th>\n",
       "      <td>C=100_gamma=1</td>\n",
       "      <td>78.86</td>\n",
       "      <td>0.459</td>\n",
       "      <td>0.459</td>\n",
       "      <td>10.0</td>\n",
       "      <td>10.0</td>\n",
       "      <td>20.0</td>\n",
       "    </tr>\n",
       "    <tr>\n",
       "      <th>3</th>\n",
       "      <td>C=0.1_gamma=1</td>\n",
       "      <td>79.06</td>\n",
       "      <td>0.482</td>\n",
       "      <td>0.482</td>\n",
       "      <td>10.0</td>\n",
       "      <td>9.0</td>\n",
       "      <td>19.0</td>\n",
       "    </tr>\n",
       "    <tr>\n",
       "      <th>4</th>\n",
       "      <td>C=1_gamma=0.001</td>\n",
       "      <td>78.69</td>\n",
       "      <td>0.419</td>\n",
       "      <td>0.419</td>\n",
       "      <td>9.0</td>\n",
       "      <td>10.0</td>\n",
       "      <td>19.0</td>\n",
       "    </tr>\n",
       "    <tr>\n",
       "      <th>8</th>\n",
       "      <td>C=10_gamma=0.001</td>\n",
       "      <td>78.69</td>\n",
       "      <td>0.419</td>\n",
       "      <td>0.419</td>\n",
       "      <td>9.0</td>\n",
       "      <td>10.0</td>\n",
       "      <td>19.0</td>\n",
       "    </tr>\n",
       "    <tr>\n",
       "      <th>0</th>\n",
       "      <td>C=0.1_gamma=0.001</td>\n",
       "      <td>76.06</td>\n",
       "      <td>1.000</td>\n",
       "      <td>1.000</td>\n",
       "      <td>1.0</td>\n",
       "      <td>1.0</td>\n",
       "      <td>2.0</td>\n",
       "    </tr>\n",
       "  </tbody>\n",
       "</table>\n",
       "</div>\n",
       "      <button class=\"colab-df-convert\" onclick=\"convertToInteractive('df-772a5192-25f3-41a7-807f-8810953b0343')\"\n",
       "              title=\"Convert this dataframe to an interactive table.\"\n",
       "              style=\"display:none;\">\n",
       "        \n",
       "  <svg xmlns=\"http://www.w3.org/2000/svg\" height=\"24px\"viewBox=\"0 0 24 24\"\n",
       "       width=\"24px\">\n",
       "    <path d=\"M0 0h24v24H0V0z\" fill=\"none\"/>\n",
       "    <path d=\"M18.56 5.44l.94 2.06.94-2.06 2.06-.94-2.06-.94-.94-2.06-.94 2.06-2.06.94zm-11 1L8.5 8.5l.94-2.06 2.06-.94-2.06-.94L8.5 2.5l-.94 2.06-2.06.94zm10 10l.94 2.06.94-2.06 2.06-.94-2.06-.94-.94-2.06-.94 2.06-2.06.94z\"/><path d=\"M17.41 7.96l-1.37-1.37c-.4-.4-.92-.59-1.43-.59-.52 0-1.04.2-1.43.59L10.3 9.45l-7.72 7.72c-.78.78-.78 2.05 0 2.83L4 21.41c.39.39.9.59 1.41.59.51 0 1.02-.2 1.41-.59l7.78-7.78 2.81-2.81c.8-.78.8-2.07 0-2.86zM5.41 20L4 18.59l7.72-7.72 1.47 1.35L5.41 20z\"/>\n",
       "  </svg>\n",
       "      </button>\n",
       "      \n",
       "  <style>\n",
       "    .colab-df-container {\n",
       "      display:flex;\n",
       "      flex-wrap:wrap;\n",
       "      gap: 12px;\n",
       "    }\n",
       "\n",
       "    .colab-df-convert {\n",
       "      background-color: #E8F0FE;\n",
       "      border: none;\n",
       "      border-radius: 50%;\n",
       "      cursor: pointer;\n",
       "      display: none;\n",
       "      fill: #1967D2;\n",
       "      height: 32px;\n",
       "      padding: 0 0 0 0;\n",
       "      width: 32px;\n",
       "    }\n",
       "\n",
       "    .colab-df-convert:hover {\n",
       "      background-color: #E2EBFA;\n",
       "      box-shadow: 0px 1px 2px rgba(60, 64, 67, 0.3), 0px 1px 3px 1px rgba(60, 64, 67, 0.15);\n",
       "      fill: #174EA6;\n",
       "    }\n",
       "\n",
       "    [theme=dark] .colab-df-convert {\n",
       "      background-color: #3B4455;\n",
       "      fill: #D2E3FC;\n",
       "    }\n",
       "\n",
       "    [theme=dark] .colab-df-convert:hover {\n",
       "      background-color: #434B5C;\n",
       "      box-shadow: 0px 1px 3px 1px rgba(0, 0, 0, 0.15);\n",
       "      filter: drop-shadow(0px 1px 2px rgba(0, 0, 0, 0.3));\n",
       "      fill: #FFFFFF;\n",
       "    }\n",
       "  </style>\n",
       "\n",
       "      <script>\n",
       "        const buttonEl =\n",
       "          document.querySelector('#df-772a5192-25f3-41a7-807f-8810953b0343 button.colab-df-convert');\n",
       "        buttonEl.style.display =\n",
       "          google.colab.kernel.accessAllowed ? 'block' : 'none';\n",
       "\n",
       "        async function convertToInteractive(key) {\n",
       "          const element = document.querySelector('#df-772a5192-25f3-41a7-807f-8810953b0343');\n",
       "          const dataTable =\n",
       "            await google.colab.kernel.invokeFunction('convertToInteractive',\n",
       "                                                     [key], {});\n",
       "          if (!dataTable) return;\n",
       "\n",
       "          const docLinkHtml = 'Like what you see? Visit the ' +\n",
       "            '<a target=\"_blank\" href=https://colab.research.google.com/notebooks/data_table.ipynb>data table notebook</a>'\n",
       "            + ' to learn more about interactive tables.';\n",
       "          element.innerHTML = '';\n",
       "          dataTable['output_type'] = 'display_data';\n",
       "          await google.colab.output.renderOutput(dataTable, element);\n",
       "          const docLink = document.createElement('div');\n",
       "          docLink.innerHTML = docLinkHtml;\n",
       "          element.appendChild(docLink);\n",
       "        }\n",
       "      </script>\n",
       "    </div>\n",
       "  </div>\n",
       "  "
      ],
      "text/plain": [
       "      Hyperparameters  Accuracy  Equality difference  Absolute difference  \\\n",
       "1    C=0.1_gamma=0.01     78.79                0.430                0.430   \n",
       "2     C=0.1_gamma=0.1     78.99                0.473                0.473   \n",
       "5      C=1_gamma=0.01     78.80                0.431                0.431   \n",
       "6       C=1_gamma=0.1     78.98                0.462                0.462   \n",
       "7         C=1_gamma=1     78.95                0.461                0.461   \n",
       "9     C=10_gamma=0.01     78.98                0.465                0.465   \n",
       "10     C=10_gamma=0.1     78.86                0.459                0.459   \n",
       "11       C=10_gamma=1     78.86                0.459                0.459   \n",
       "12  C=100_gamma=0.001     78.80                0.430                0.430   \n",
       "13   C=100_gamma=0.01     79.02                0.459                0.459   \n",
       "14    C=100_gamma=0.1     78.86                0.459                0.459   \n",
       "15      C=100_gamma=1     78.86                0.459                0.459   \n",
       "3       C=0.1_gamma=1     79.06                0.482                0.482   \n",
       "4     C=1_gamma=0.001     78.69                0.419                0.419   \n",
       "8    C=10_gamma=0.001     78.69                0.419                0.419   \n",
       "0   C=0.1_gamma=0.001     76.06                1.000                1.000   \n",
       "\n",
       "    Accuracy score  Fairness score  Total_score  \n",
       "1             10.0            10.0         20.0  \n",
       "2             10.0            10.0         20.0  \n",
       "5             10.0            10.0         20.0  \n",
       "6             10.0            10.0         20.0  \n",
       "7             10.0            10.0         20.0  \n",
       "9             10.0            10.0         20.0  \n",
       "10            10.0            10.0         20.0  \n",
       "11            10.0            10.0         20.0  \n",
       "12            10.0            10.0         20.0  \n",
       "13            10.0            10.0         20.0  \n",
       "14            10.0            10.0         20.0  \n",
       "15            10.0            10.0         20.0  \n",
       "3             10.0             9.0         19.0  \n",
       "4              9.0            10.0         19.0  \n",
       "8              9.0            10.0         19.0  \n",
       "0              1.0             1.0          2.0  "
      ]
     },
     "execution_count": 77,
     "metadata": {},
     "output_type": "execute_result"
    }
   ],
   "source": [
    "rewt_optimal_adult"
   ]
  },
  {
   "cell_type": "code",
   "execution_count": 78,
   "metadata": {
    "colab": {
     "base_uri": "https://localhost:8080/"
    },
    "id": "gCIItr24D0k9",
    "outputId": "3bbfaf4d-c25e-4a56-a70a-216949c551ef"
   },
   "outputs": [
    {
     "name": "stdout",
     "output_type": "stream",
     "text": [
      "Accuracy on test:  80.28 %\n",
      "Equal opportunity difference:  -0.495\n",
      "Disparate Impact:  0.0\n",
      "[[10295   856]\n",
      " [ 2034  1468]]\n"
     ]
    }
   ],
   "source": [
    "simple_model(SVC(C=1, gamma=1, kernel='rbf'), X_train_ad, X_test_ad, y_train_ad, y_test_ad, test_ad, unprivileged_adult, privileged_adult)"
   ]
  },
  {
   "cell_type": "code",
   "execution_count": 80,
   "metadata": {
    "colab": {
     "base_uri": "https://localhost:8080/"
    },
    "id": "w_9n59taEJet",
    "outputId": "d50d5e0d-056b-445b-ea93-266bb64c066e"
   },
   "outputs": [
    {
     "name": "stdout",
     "output_type": "stream",
     "text": [
      "Accuracy on test:  78.66 %\n",
      "Equal opportunity difference:  -0.017\n",
      "Disparate Impact:  0.693\n",
      "[[9905 1246]\n",
      " [1881 1621]]\n"
     ]
    }
   ],
   "source": [
    "reweighted_model(SVC(C=0.1, gamma=0.01, kernel='rbf'), X_train_ad, X_test_ad, y_train_ad, y_test_ad, test_ad, unprivileged_adult, privileged_adult, train_ad.instance_weights)"
   ]
  },
  {
   "cell_type": "code",
   "execution_count": null,
   "metadata": {
    "id": "UMYZlJ3TQWuj"
   },
   "outputs": [],
   "source": []
  }
 ],
 "metadata": {
  "colab": {
   "collapsed_sections": [],
   "name": "MachineLearingresit_244854",
   "provenance": []
  },
  "gpuClass": "standard",
  "kernelspec": {
   "display_name": "Python 3",
   "language": "python",
   "name": "python3"
  },
  "language_info": {
   "codemirror_mode": {
    "name": "ipython",
    "version": 3
   },
   "file_extension": ".py",
   "mimetype": "text/x-python",
   "name": "python",
   "nbconvert_exporter": "python",
   "pygments_lexer": "ipython3",
   "version": "3.8.8"
  }
 },
 "nbformat": 4,
 "nbformat_minor": 1
}
